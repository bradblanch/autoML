{
 "cells": [
  {
   "cell_type": "markdown",
   "metadata": {},
   "source": [
    "# Automated Machine Learning with Interactive User Inputs\n",
    "\n",
    "**Purpose:** This notebook is designed to interactively guide the user through an end-to-end process for deploying an automated machine learning workflow utilizing h2o.ai's autoML function.  The user is simply required to select a dataset and choose a variable they would like to predict before running the automation.  The user can choose to run the automation with default parameters or override those parameters following the input prompts embedded in this notebook.  This workflow is designed for all modelers - new and experienced - who are looking to leverage automated machine learning methods in their work.\n",
    "\n",
    "**Data Mining Problems Covered:**\n",
    "- Utilize this notebook to solve any \"Supervised Learning\" problem with a Categorical or Continuous Target Variable\n",
    "\n",
    "**Edit Date:** 6/4/2019\n",
    "    \n",
    "</br></br>\n",
    "- **Resources**:\n",
    "    * http://docs.h2o.ai/h2o/latest-stable/h2o-docs/automl.html\n",
    "    * https://ipywidgets.readthedocs.io/en/stable/examples/Widget%20List.html\n",
    "    * https://towardsdatascience.com/a-very-simple-demo-of-interactive-controls-on-jupyter-notebook-4429cf46aabd\n",
    "    \n",
    "</br></br>\n",
    "- **Example Datasets**\n",
    "    - **[Sample csv] = artificial_attrition_data.csv:** This is an artificial dataset containing employment records for a fictional company.\n",
    "    - **[Sample xlsx] = Artificial Employment Data.xlsx:** This is an artificial dataset containing employment records for a fictional company. The file has (3) separate tabs to choose from when uploading into the workflow.\n",
    "    - **[Sample GET REQUEST]** - https://gist.github.com/bradblanch/53857ddb24ad83287b900aa8968ff416: This is an artificial dataset containing employment records for a fictional company. The file is available through my gist account and can be imported directly from the web via the url import function contained in this workflow.  Any valid url containing data in .csv format can be uploaded directly within this tool.\n",
    "    \n",
    "## Table of Contents\n",
    "\n",
    "**1.0** **- Ingest Data**\n",
    "    * 1.1 - Set Your Working Directory\n",
    "    * 1.2 - Upload Your Data (for Modeling)\n",
    "    * 1.3 - Select a Data Frame (for Modeling)\n",
    "     \n",
    "**2.0** **- Train Models**\n",
    "    * 2.1 - Select Your Target Variable\n",
    "    * 2.2 - Initiate H2O\n",
    "    * 2.3 - Configure Models\n",
    "    * 2.4 - Automatically Train Models\n",
    "    * 2.5 - Evaluate Models & Select Top Performer\n",
    "   \n",
    "**3.0** **- Make Predictions & Export Results**\n",
    "    * 3.1 - Upload your Data (for Scoring) \n",
    "    * 3.2 - Select a Data Frame (for Scoring)  \n",
    "    * 3.3 - Predict the Target Value\n",
    "    * 3.4 - Export Dataframes for Offline Analysis\n",
    "\n",
    "## Dependencies\n",
    "\n",
    "This script was executed using the following version of Python:\n",
    "* **Python 3.6.2 :: Anaconda, Inc.**\n",
    "\n",
    "Use this link to install Python on your machine:\n",
    "* https://www.anaconda.com/distribution/#download-section\n",
    "\n",
    "**About Python Versions:**\n",
    "If you are running a higher-version of Python and this notebook fails to execute properly, you can downgrade your version in the terminal by running the following commands:\n",
    "* conda search python [to see which versions are available on your machine]\n",
    "* conda install python=3.6.2 [which will switch the active version to 3.6.2; if available in the list above]\n",
    "\n",
    "**About Python Packages:**\n",
    "All packages used in this notebook can be installed on your machine using the \"pip install [package_name]\" command on your terminal.  Be sure you've installed each of the packages below before attempting to execute the notebook.\n",
    "\n",
    "Current package requirements include:\n",
    "* os - https://docs.python.org/3/library/os.html\n",
    "* Pandas - https://pandas.pydata.org/\n",
    "* Datetime - https://docs.python.org/3/library/datetime.html\n",
    "* re - https://docs.python.org/3/library/re.html\n",
    "* Numpy - http://www.numpy.org/\n",
    "* ipywidgets - https://ipywidgets.readthedocs.io/en/stable/user_install.html\n",
    "* ipython - https://ipython.org/ipython-doc/rel-0.10.2/html/interactive/extension_api.html\n",
    "* h2o - http://docs.h2o.ai/h2o/latest-stable/h2o-docs/downloading.html#install-in-python\n",
    "* scikit-learn - https://scikit-learn.org/stable/install.html\n",
    "* requests - https://2.python-requests.org/en/master/user/install/\n",
    "* io - https://docs.python.org/3/library/io.html\n",
    "* warnings - https://docs.python.org/3/library/warnings.html\n",
    "\n",
    "The current template uses the following versions:\n",
    "* os== module 'os' from '/anaconda3/lib/python3.6/os.py'\n",
    "* pandas==0.24.1\n",
    "* datetime== module 'datetime' from '/anaconda3/lib/python3.6/datetime.py'\n",
    "* re== module 're' from '/anaconda3/lib/python3.6/re.py'\n",
    "* numpy==1.16.1\n",
    "* ipywidgets==7.4.2\n",
    "* ipython==6.2.1\n",
    "* h2o==3.24.0.4\n",
    "* scikit-learn==0.19.1\n",
    "* requests==2.18.4\n",
    "* io== module 'io' from '/anaconda3/lib/python3.6/io.py'\n",
    "* warnings== module 'warnings' from '/anaconda3/lib/python3.6/warnings.py'"
   ]
  },
  {
   "cell_type": "markdown",
   "metadata": {},
   "source": [
    "## Before you begin, ensure you've installed the required Python packages\n",
    "\n",
    "* See the list above and make note of the specific versions that were used in this notebook"
   ]
  },
  {
   "cell_type": "code",
   "execution_count": 1,
   "metadata": {},
   "outputs": [],
   "source": [
    "############################################\n",
    "###### Import required Python packages #####\n",
    "############################################\n",
    "\n",
    "import os\n",
    "import pandas as pd\n",
    "import re\n",
    "import datetime as dt\n",
    "import numpy as np\n",
    "from ipywidgets import interact, interactive, IntSlider, Layout\n",
    "import ipywidgets as widgets\n",
    "from IPython.display import display\n",
    "import h2o\n",
    "from h2o.automl import H2OAutoML\n",
    "from sklearn.model_selection import train_test_split\n",
    "import io\n",
    "import requests\n",
    "import warnings\n",
    "warnings.filterwarnings('ignore')"
   ]
  },
  {
   "cell_type": "markdown",
   "metadata": {},
   "source": [
    "## Note: Code Cells are Hidden by Default for Ease-of-Use\n",
    "\n",
    "This notebook incorporates interactive \"widgets\" which will result in large blocks of cells being utilized to enable specific user-interactions.  Executing this cell will hide all \"Code\" cells while making all outputs visible to the user.  Refer to the link below for the source or simply \"run\" the block below to see the impact on the rest of the notebook.\n",
    "\n",
    "* https://stackoverflow.com/questions/27934885/how-to-hide-code-from-cells-in-ipython-notebook-visualized-with-nbviewer\n",
    "\n",
    "#### Disclaimer:\n",
    "* As the \"output text\" notes, simply click the \"here\" hyperlink in the text to toggle on/off this feature"
   ]
  },
  {
   "cell_type": "code",
   "execution_count": 1,
   "metadata": {},
   "outputs": [
    {
     "data": {
      "text/html": [
       "<script>\n",
       "code_show=true; \n",
       "function code_toggle() {\n",
       " if (code_show){\n",
       " $('div.input').hide();\n",
       " } else {\n",
       " $('div.input').show();\n",
       " }\n",
       " code_show = !code_show\n",
       "} \n",
       "$( document ).ready(code_toggle);\n",
       "</script>\n",
       "The raw code for this IPython notebook is by default hidden for easier reading.\n",
       "To toggle on/off the raw code, click <a href=\"javascript:code_toggle()\">here</a>."
      ],
      "text/plain": [
       "<IPython.core.display.HTML object>"
      ]
     },
     "execution_count": 1,
     "metadata": {},
     "output_type": "execute_result"
    }
   ],
   "source": [
    "from IPython.display import HTML\n",
    "\n",
    "HTML('''<script>\n",
    "code_show=true; \n",
    "function code_toggle() {\n",
    " if (code_show){\n",
    " $('div.input').hide();\n",
    " } else {\n",
    " $('div.input').show();\n",
    " }\n",
    " code_show = !code_show\n",
    "} \n",
    "$( document ).ready(code_toggle);\n",
    "</script>\n",
    "The raw code for this IPython notebook is by default hidden for easier reading.\n",
    "To toggle on/off the raw code, click <a href=\"javascript:code_toggle()\">here</a>.''')"
   ]
  },
  {
   "cell_type": "markdown",
   "metadata": {},
   "source": [
    "## 1.0 - Data Ingestion\n",
    "\n",
    "The series of code blocks below will walk you through the process of mapping to your working directory and uploading your dataset."
   ]
  },
  {
   "cell_type": "markdown",
   "metadata": {},
   "source": [
    "## 1.1 - Set Your Working Directory\n",
    "\n",
    "Your \"working directory\" is a folder location on your computer that will store files either read-in or written-out by this script.  This code by default will return your current, active directory.  You can change this directory by typing in a specific path into the text box provided."
   ]
  },
  {
   "cell_type": "markdown",
   "metadata": {},
   "source": [
    "## AN IMPORTANT NOTE ABOUT INTERACTIVE WIDGETS\n",
    "\n",
    "This notebook uses interactive widgets to help you make selections and inputs more conveniently.  As you work through this notebook, be sure to follow the steps below to ensure your selections are incorporated in the cells that follow:\n",
    "\n",
    "#### 1. Run the cell containing the interactive widget(s) to bring them into view\n",
    "#### 2. Apply your selections and/or inputs to the widgets that appear\n",
    "#### 3. DO NOT rerun the cell as it will erase your selections and inputs\n",
    "#### 4. To proceed, simply click on the next cell in the notebook, and Run it\n",
    "\n",
    "<br/>"
   ]
  },
  {
   "cell_type": "code",
   "execution_count": 2,
   "metadata": {},
   "outputs": [
    {
     "data": {
      "application/vnd.jupyter.widget-view+json": {
       "model_id": "63452aa805404d04ad9adf99efe7de22",
       "version_major": 2,
       "version_minor": 0
      },
      "text/plain": [
       "Text(value='/Users/bblanchard006/Desktop/digital_lab/autoML', description='Directory:', layout=Layout(width='5…"
      ]
     },
     "metadata": {},
     "output_type": "display_data"
    }
   ],
   "source": [
    "set_working_directory = widgets.Text(\n",
    "    value=os.getcwd(),\n",
    "    placeholder='/Users/bblanchard006/Desktop/digital_lab/autoML',\n",
    "    description='Directory:',\n",
    "    disabled=False,\n",
    "    layout=Layout(width='50%')\n",
    ")\n",
    "\n",
    "display(set_working_directory)"
   ]
  },
  {
   "cell_type": "markdown",
   "metadata": {},
   "source": [
    "## Reminder: Do not rerun the cell above after applying your inputs\n",
    "\n",
    "### Click on and Run this cell to proceed\n",
    "\n",
    "After executing the cell above, you can leave the default directory or overwrite the text string that appears with your desired folder directory. **DO NOT execute the cell again after making your update.** The input above will be fed into the following code cell, where it will either successfully map to the new directory or notify you of an error."
   ]
  },
  {
   "cell_type": "code",
   "execution_count": 3,
   "metadata": {},
   "outputs": [
    {
     "name": "stdout",
     "output_type": "stream",
     "text": [
      "Changed directory to /Users/bblanchard006/Desktop/digital_lab/autoML\n"
     ]
    }
   ],
   "source": [
    "try:\n",
    "    os.chdir(set_working_directory.value)\n",
    "    print('Changed directory to {}'.format(set_working_directory.value))\n",
    "except Exception as e:\n",
    "    print('Failed to change directory')\n",
    "    print(e)"
   ]
  },
  {
   "cell_type": "markdown",
   "metadata": {},
   "source": [
    "## 1.2 - Upload Your Data (Excel and CSV files)\n",
    "\n",
    "The function in the code cell below will find, ingest, and format both xlsx and csv files.  This is the dataset with \"known\" values which will be used to train your models."
   ]
  },
  {
   "cell_type": "code",
   "execution_count": 4,
   "metadata": {},
   "outputs": [],
   "source": [
    "########################################\n",
    "##### Data Ingestion Functions\n",
    "########################################\n",
    "\n",
    "def compile_raw_data(filename, tab_names, subfolder, delimiter_char = ',', skip_rows = 0, file_ext = 'xlsx'):\n",
    "    \n",
    "    # Inputs: \n",
    "    ## filename = 'sample.csv' | 'sample.xlsx' - the filename in the directory (including the extension) \n",
    "    ## tab_names = None | ['Sheet1,'Sheet2'] - None for csv; [comma separated list of tab names] for xlsx\n",
    "    ## subfolder = 'source_data' - string containing the name of a folder in the working directory\n",
    "    ## delimiter_char = ',' | ';' - None for xlsx\n",
    "    ## rows to skip = default 0 - Not used for csv; trims the user-defined number of rows from an xlsx\n",
    "    ## file extension = csv | xlsx\n",
    "    \n",
    "    # Description: reads in the workbook; standardizes header names; \n",
    "    # Outputs: returns a dictionary of dataframes\n",
    "\n",
    "    master_data = {}\n",
    "    if subfolder:\n",
    "        file_path = subfolder+'/{}'.format(filename)\n",
    "    else:\n",
    "        file_path = filename\n",
    "\n",
    "    if file_ext == 'csv':\n",
    "        tab_names = [re.sub('.csv','', filename)]\n",
    "\n",
    "    for tab in tab_names:\n",
    "        try:\n",
    "            if file_ext == 'xlsx':\n",
    "                dframe = pd.read_excel(file_path, tab, skip_rows)\n",
    "            elif file_ext == 'csv' and delimiter_char == ',':\n",
    "                dframe = pd.read_csv(file_path, header=0, delimiter=',')\n",
    "            else:\n",
    "                dframe = pd.read_csv(file_path, header=0, delimiter=';')\n",
    "                \n",
    "            sanitizer = {\n",
    "                        '$':'USD',\n",
    "                        '(':' ',\n",
    "                        ')':' ',\n",
    "                        '/':' ',\n",
    "                        '-':' ',\n",
    "                        ',':' ',\n",
    "                        '.':' '\n",
    "            }\n",
    "                        \n",
    "            for key, value in sanitizer.items():\n",
    "                dframe.rename(columns=lambda x: x.replace(key, value), inplace=True)\n",
    "                \n",
    "            dframe.rename(columns=lambda x: x.strip(), inplace=True)\n",
    "            dframe.rename(columns=lambda x: re.sub(' +','_', x), inplace=True)\n",
    "            \n",
    "            dframe.columns = map(str.lower, dframe.columns)\n",
    "            \n",
    "            master_data.update({tab:dframe})\n",
    "        except Exception as e:\n",
    "            master_data.update({tab:'Failed'})\n",
    "    \n",
    "    return master_data"
   ]
  },
  {
   "cell_type": "markdown",
   "metadata": {},
   "source": [
    "The code blocks below enable conditional filtering to support multiple file types. Further instructions are provided below:\n",
    "\n",
    "**Uploading csv files**\n",
    "\n",
    "To upload a csv file, complete these steps:\n",
    "1. Type in your filename along with the extension (ex. sample.csv)\n",
    "2. Check the 'csv' radio-button\n",
    "3. Is your file in the main directory or a sub-folder in the directory:\n",
    "    * Select the \"no\" radio-button if your file is in your main directory\n",
    "    * Select the \"yes\" radio-button to expose a text-box where you can type-in the name of your sub-folder\n",
    "    \n",
    "**Uploading xlsx files**\n",
    "\n",
    "To upload an xlsx file, complete these steps:\n",
    "1. Type in your filename along with the extension (ex. sample.xlsx)\n",
    "2. Check the 'xlsx' radio-button\n",
    "3. Type in the tab-names you'd like to ingest (comma-separated; Sheet1,Sheet2,Sheet3)\n",
    "4. If the data in your file has leading rows, select how many rows to skip before ingesting the data (ex. if your data starts on Row 2 in the Excel-file, set the Skip Rows value to 1)\n",
    "5. Is your file in the main directory or a sub-folder in the directory:\n",
    "    * Select the \"no\" radio-button if your file is in your main directory\n",
    "    * Select the \"yes\" radio-button to expose a text-box where you can type-in the name of your sub-folder"
   ]
  },
  {
   "cell_type": "code",
   "execution_count": 6,
   "metadata": {},
   "outputs": [
    {
     "data": {
      "application/vnd.jupyter.widget-view+json": {
       "model_id": "5814a97b4cdb4cf4ac49cb5e89259d08",
       "version_major": 2,
       "version_minor": 0
      },
      "text/plain": [
       "interactive(children=(RadioButtons(description='File Location:', options=('local', 'url'), value='local'), Out…"
      ]
     },
     "metadata": {},
     "output_type": "display_data"
    }
   ],
   "source": [
    "upload_type = widgets.RadioButtons(\n",
    "    options=['local', 'url'],\n",
    "    description='File Location:',\n",
    "    disabled=False\n",
    ")\n",
    "\n",
    "upload_url = widgets.Text(\n",
    "#    value='https://gist.githubusercontent.com/bradblanch/53857ddb24ad83287b900aa8968ff416/raw/790b0a27392f69a5efcf2c1ac7d0bdad5e38428e/artificial_attrition_data.csv',\n",
    "    value='https://web.stanford.edu/class/archive/cs/cs109/cs109.1166/stuff/titanic.csv',\n",
    "    placeholder='http://',\n",
    "    description='URL:',\n",
    "    disabled=False,\n",
    "    layout=Layout(width='80%')\n",
    ")\n",
    "upload_filename = widgets.Text(\n",
    "    value='artificial_attrition_data.csv',\n",
    "#     value='Artificial Employment Data.xlsx'\n",
    "    placeholder='Sample File.csv',\n",
    "    description='File Name:',\n",
    "    disabled=False,\n",
    "    layout=Layout(width='50%')\n",
    ")\n",
    "\n",
    "file_type = widgets.RadioButtons(\n",
    "    options=['csv', 'xlsx'],\n",
    "    description='File Type:',\n",
    "    disabled=False\n",
    ")\n",
    "\n",
    "tab_names = widgets.Text(\n",
    "    value='Sheet1, Sheet2, Sheet3, etc',\n",
    "    placeholder='ALL EMPLOYEES, PAST EMPLOYEES',\n",
    "    description='Tab(s):',\n",
    "    disabled=False,\n",
    "    layout=Layout(width='50%')\n",
    ")\n",
    "\n",
    "subfolder_name = widgets.Text(\n",
    "    value='source_data',\n",
    "    placeholder='Subfolder name',\n",
    "    description='Subfolder:',\n",
    "    disabled=False,\n",
    "    layout=Layout(width='50%')\n",
    ")\n",
    "\n",
    "subfolder = widgets.RadioButtons(\n",
    "    options=['no','yes'],\n",
    "    value='no',\n",
    "    description='Subfolder:',\n",
    "    disabled=False\n",
    ")\n",
    "\n",
    "skip_rows = widgets.IntSlider(\n",
    "    value=0,\n",
    "    min=0,\n",
    "    max=10,\n",
    "    step=1,\n",
    "    description='Skip Rows:',\n",
    "    disabled=False,\n",
    "    continuous_update=True,\n",
    "    orientation='horizontal',\n",
    "    readout=True,\n",
    "    readout_format='d'\n",
    ")\n",
    "\n",
    "delimiter = widgets.RadioButtons(\n",
    "    options=[',',';'],\n",
    "    value=',',\n",
    "    description='Delimiter:',\n",
    "    disabled=False\n",
    ")\n",
    "\n",
    "def text_field(x):\n",
    "    if(x=='xlsx'):\n",
    "        display(tab_names)\n",
    "        tab_names.on_submit(tab_names)\n",
    "        display(skip_rows)\n",
    "    else:\n",
    "        display(delimiter)\n",
    "        print('Tab Names: Not needed for csv files')\n",
    "\n",
    "def sub_folder(y):\n",
    "    if(y=='yes'):\n",
    "        display(subfolder_name)\n",
    "        subfolder_name.on_submit(subfolder_name)\n",
    "    else:\n",
    "        print('Using {} folder'.format(os.getcwd()))\n",
    "\n",
    "def file_location(z):\n",
    "    if(z=='local'):\n",
    "        display(upload_filename)\n",
    "        i = widgets.interactive(text_field, x=file_type)\n",
    "        display(i)\n",
    "        p = widgets.interactive(sub_folder, y=subfolder)\n",
    "        display(p)\n",
    "    else:\n",
    "        display(upload_url)\n",
    "    \n",
    "q = widgets.interactive(file_location, z=upload_type)\n",
    "\n",
    "display(q)"
   ]
  },
  {
   "cell_type": "markdown",
   "metadata": {},
   "source": [
    "## Reminder: Do not rerun the cell above after applying your inputs\n",
    "\n",
    "### Click on and Run this cell to proceed"
   ]
  },
  {
   "cell_type": "markdown",
   "metadata": {},
   "source": [
    "The following code cell will attempt to ingest the data you've selected in the widgets above:\n",
    "\n",
    "**Note About xlsx Files** - Depending on the number of tabs and the size of the data on each tab, ingesting an xlsx file can take several minutes to execute.  If possible, it may be more efficient to break your Excel file into separate csv files which take only a fraction of a second to ingest."
   ]
  },
  {
   "cell_type": "code",
   "execution_count": 7,
   "metadata": {},
   "outputs": [],
   "source": [
    "master_data = {}\n",
    "\n",
    "if upload_type.value == 'url':\n",
    "    url_response = requests.request(\"GET\", upload_url.value)\n",
    "    master_data['url_data'] = pd.read_csv(io.BytesIO(url_response.content))\n",
    "else:\n",
    "    if file_type.value == 'csv':\n",
    "        tabs = None\n",
    "        skiprows = 0\n",
    "    else:\n",
    "        tabs = [x.strip() for x in tab_names.value.split(',')]\n",
    "        skiprows = skip_rows.value\n",
    "\n",
    "    if subfolder.value == 'yes':\n",
    "        subfolder = subfolder_name.value\n",
    "    else:\n",
    "        subfolder = None\n",
    "    master_data = compile_raw_data(upload_filename.value, tabs, subfolder, delimiter_char = delimiter.value, skip_rows = skiprows, file_ext = file_type.value)\n"
   ]
  },
  {
   "cell_type": "markdown",
   "metadata": {},
   "source": [
    "**Note:** If you see an AttributeError: 'NoneType' object has no attribute 'value' message above, simply rerun the last two code cells to reset the input parameters.\n",
    "\n",
    "The following code cell will print out the attributes associated with the files you've uploaded and alert you of any errors:"
   ]
  },
  {
   "cell_type": "code",
   "execution_count": 8,
   "metadata": {},
   "outputs": [
    {
     "name": "stdout",
     "output_type": "stream",
     "text": [
      "artificial_attrition_data table was ingested with 1821 rows and 19 columns\n"
     ]
    }
   ],
   "source": [
    "for key, value in master_data.items():\n",
    "    try:\n",
    "        print('{} table was ingested with {} rows and {} columns'.format(key,value.shape[0],value.shape[1]))\n",
    "    except:\n",
    "        print('{} table failed to load'.format(key))"
   ]
  },
  {
   "cell_type": "markdown",
   "metadata": {},
   "source": [
    "## 1.3 - Select a Data Frame\n",
    "\n",
    "The following menus will allow you to select the dataset you would like to use in your modeling and the variables you would like included in the subsequent processes.  You can preview a sample of the data as well as increase or decrease the number of records returned by using the integer input widget (which has a default range; minimum rows = 1, maximum rows = 50).\n",
    "\n",
    "Select an available frame from the list below:"
   ]
  },
  {
   "cell_type": "code",
   "execution_count": 9,
   "metadata": {},
   "outputs": [
    {
     "data": {
      "application/vnd.jupyter.widget-view+json": {
       "model_id": "8b1abba7444f40afa2fdb4d214153c40",
       "version_major": 2,
       "version_minor": 0
      },
      "text/plain": [
       "Select(description='Tables:', layout=Layout(width='50%'), options=('artificial_attrition_data',), value='artif…"
      ]
     },
     "metadata": {},
     "output_type": "display_data"
    }
   ],
   "source": [
    "dict_keys = widgets.Select(\n",
    "    options=master_data.keys(),\n",
    "    description='Tables:',\n",
    "    disabled=False,\n",
    "    layout=Layout(width='50%')\n",
    ")\n",
    "\n",
    "display(dict_keys)"
   ]
  },
  {
   "cell_type": "markdown",
   "metadata": {},
   "source": [
    "## Reminder: Do not rerun the cell above after applying your inputs\n",
    "\n",
    "### Click on and Run this cell to proceed\n",
    "\n",
    "After selecting a frame above, select the variables you would like included in your workflow from the list below:\n",
    "\n",
    "**NOTE:** To select multiple values from the picklist, either hold down the command key on your keyboard or click and hold the shift key to select ranges of variables.  You can scroll down if your mouse is within the widget window."
   ]
  },
  {
   "cell_type": "code",
   "execution_count": 10,
   "metadata": {},
   "outputs": [
    {
     "data": {
      "application/vnd.jupyter.widget-view+json": {
       "model_id": "c0eaa115943c461a8dceef0a68281d55",
       "version_major": 2,
       "version_minor": 0
      },
      "text/plain": [
       "SelectMultiple(description='Variables:', options=('attrition', 'gender', 'birthday', 'age', 'staff_category', …"
      ]
     },
     "metadata": {},
     "output_type": "display_data"
    }
   ],
   "source": [
    "review_variables = widgets.SelectMultiple(\n",
    "    options=master_data[dict_keys.value].columns.tolist(),\n",
    "    description='Variables:',\n",
    "    disabled=False\n",
    ")\n",
    "\n",
    "display(review_variables)"
   ]
  },
  {
   "cell_type": "code",
   "execution_count": 11,
   "metadata": {},
   "outputs": [
    {
     "name": "stdout",
     "output_type": "stream",
     "text": [
      "<class 'pandas.core.frame.DataFrame'>\n",
      "RangeIndex: 1821 entries, 0 to 1820\n",
      "Data columns (total 19 columns):\n",
      " #   Column                 Non-Null Count  Dtype \n",
      "---  ------                 --------------  ----- \n",
      " 0   attrition              1821 non-null   object\n",
      " 1   gender                 1821 non-null   object\n",
      " 2   birthday               1821 non-null   object\n",
      " 3   age                    1821 non-null   int64 \n",
      " 4   staff_category         1821 non-null   object\n",
      " 5   stock_options          1821 non-null   object\n",
      " 6   job_title              1821 non-null   object\n",
      " 7   hire_date              1821 non-null   object\n",
      " 8   performance_rating     1821 non-null   object\n",
      " 9   employee_satisfaction  1821 non-null   int64 \n",
      " 10  last_promotion_date    1821 non-null   object\n",
      " 11  recent_salary          1821 non-null   int64 \n",
      " 12  prior_salary           1821 non-null   int64 \n",
      " 13  last_raise             1821 non-null   int64 \n",
      " 14  commute_distance       1821 non-null   int64 \n",
      " 15  percent_travel         1821 non-null   int64 \n",
      " 16  marital_status         1821 non-null   object\n",
      " 17  education              1821 non-null   object\n",
      " 18  employee_id            1821 non-null   int64 \n",
      "dtypes: int64(8), object(11)\n",
      "memory usage: 270.4+ KB\n"
     ]
    }
   ],
   "source": [
    "master_data[dict_keys.value].info()"
   ]
  },
  {
   "cell_type": "markdown",
   "metadata": {},
   "source": [
    "## Reminder: Do not rerun the cell above after applying your inputs\n",
    "\n",
    "### Click on and Run this cell to proceed\n",
    "Input the number of rows you'd like to sample:"
   ]
  },
  {
   "cell_type": "code",
   "execution_count": 12,
   "metadata": {},
   "outputs": [
    {
     "data": {
      "application/vnd.jupyter.widget-view+json": {
       "model_id": "1f979f1a920a4c8e9e91377cc96e2e73",
       "version_major": 2,
       "version_minor": 0
      },
      "text/plain": [
       "VBox(children=(VBox(children=(BoundedIntText(value=5, description='Rows:', max=50, min=1),)), Output()))"
      ]
     },
     "metadata": {},
     "output_type": "display_data"
    }
   ],
   "source": [
    "review_var_list = []\n",
    "for i in review_variables.value:\n",
    "    review_var_list.append(i)\n",
    "    \n",
    "master_data['custom_table'] = master_data[dict_keys.value][review_var_list]\n",
    "\n",
    "head_number = widgets.BoundedIntText(\n",
    "    value=5,\n",
    "    min=1,\n",
    "    max=50,\n",
    "    step=1,\n",
    "    description='Rows:',\n",
    "    disabled=False\n",
    ")\n",
    "\n",
    "def sample_view(head_number):\n",
    "    sample = master_data['custom_table'].head(head_number)\n",
    "    print(sample)\n",
    "\n",
    "out = widgets.interactive_output(sample_view, {'head_number':head_number})\n",
    "\n",
    "widgets.VBox([widgets.VBox([head_number]), out])"
   ]
  },
  {
   "cell_type": "markdown",
   "metadata": {},
   "source": [
    "## 2.0 - Train Models\n",
    "\n",
    "The following widgets allow a user to choose a dataframe, select a subset of variables to groupby, and build appropriate datatype aggregations (ex. counts for categorical fields; summary statistics for numerical fields).  The function below does not require editing if being applied to another notebook (however, it can be extended to include additional transformations as needed)."
   ]
  },
  {
   "cell_type": "markdown",
   "metadata": {},
   "source": [
    "## 2.1 - Select Your Target Variable\n",
    "\n",
    "Your \"Target\" variable represents the thing you are attempting to predict. It should be either \"categorical\" (ex. text, labels) or \"continuous\" (ex. numeric values) in nature. The target and its type will impact which algorithms are used and the evaluation metrics that are useful in evaluating each models' performance."
   ]
  },
  {
   "cell_type": "markdown",
   "metadata": {},
   "source": [
    "Select your Target variable and note whether or not it is a categorical or continuous data type:"
   ]
  },
  {
   "cell_type": "code",
   "execution_count": 13,
   "metadata": {},
   "outputs": [
    {
     "data": {
      "application/vnd.jupyter.widget-view+json": {
       "model_id": "4f27372e37b54f1d94c0f3b49ca560b1",
       "version_major": 2,
       "version_minor": 0
      },
      "text/plain": [
       "Select(description='Target', options=('attrition', 'gender', 'birthday', 'age', 'staff_category', 'stock_optio…"
      ]
     },
     "metadata": {},
     "output_type": "display_data"
    },
    {
     "data": {
      "application/vnd.jupyter.widget-view+json": {
       "model_id": "b9e6b3283c7244dead83011b5fbf5eff",
       "version_major": 2,
       "version_minor": 0
      },
      "text/plain": [
       "Select(description='Type', options=('Continuous', 'Categorical'), value='Continuous')"
      ]
     },
     "metadata": {},
     "output_type": "display_data"
    }
   ],
   "source": [
    "target = widgets.Select(\n",
    "    options=master_data['custom_table'].columns.tolist(),\n",
    "    description='Target',\n",
    "    disabled=False\n",
    ")\n",
    "\n",
    "target_type = widgets.Select(\n",
    "    options=['Continuous','Categorical'],\n",
    "    description='Type',\n",
    "    disabled=False,\n",
    ")\n",
    "\n",
    "display(target)\n",
    "display(target_type)"
   ]
  },
  {
   "cell_type": "markdown",
   "metadata": {},
   "source": [
    "## Reminder: Do not rerun the cell above after applying your inputs\n",
    "\n",
    "### Click on and Run this cell to proceed"
   ]
  },
  {
   "cell_type": "markdown",
   "metadata": {},
   "source": [
    "## 2.2 - Initiate H2O\n",
    "\n",
    "The code cell below will terminate any existing h2o instances and create a new instance"
   ]
  },
  {
   "cell_type": "code",
   "execution_count": 17,
   "metadata": {},
   "outputs": [
    {
     "name": "stdout",
     "output_type": "stream",
     "text": [
      "Checking whether there is an H2O instance running at http://localhost:54321 ..... not found.\n",
      "Attempting to start a local H2O server...\n",
      "  Java Version: java version \"1.8.0_181\"; Java(TM) SE Runtime Environment (build 1.8.0_181-b13); Java HotSpot(TM) 64-Bit Server VM (build 25.181-b13, mixed mode)\n",
      "  Starting server from /anaconda3/lib/python3.6/site-packages/h2o/backend/bin/h2o.jar\n",
      "  Ice root: /var/folders/6k/j123vpgj42xf7z7vhxmc8bsw0000gn/T/tmpxd74sjt5\n",
      "  JVM stdout: /var/folders/6k/j123vpgj42xf7z7vhxmc8bsw0000gn/T/tmpxd74sjt5/h2o_bblanchard006_started_from_python.out\n",
      "  JVM stderr: /var/folders/6k/j123vpgj42xf7z7vhxmc8bsw0000gn/T/tmpxd74sjt5/h2o_bblanchard006_started_from_python.err\n",
      "  Server is running at http://127.0.0.1:54321\n",
      "Connecting to H2O server at http://127.0.0.1:54321 ... successful.\n",
      "Warning: Your H2O cluster version is too old (1 year, 1 month and 15 days)! Please download and install the latest version from http://h2o.ai/download/\n"
     ]
    },
    {
     "data": {
      "text/html": [
       "<div style=\"overflow:auto\"><table style=\"width:50%\"><tr><td>H2O cluster uptime:</td>\n",
       "<td>03 secs</td></tr>\n",
       "<tr><td>H2O cluster timezone:</td>\n",
       "<td>America/Chicago</td></tr>\n",
       "<tr><td>H2O data parsing timezone:</td>\n",
       "<td>UTC</td></tr>\n",
       "<tr><td>H2O cluster version:</td>\n",
       "<td>3.24.0.4</td></tr>\n",
       "<tr><td>H2O cluster version age:</td>\n",
       "<td>1 year, 1 month and 15 days !!!</td></tr>\n",
       "<tr><td>H2O cluster name:</td>\n",
       "<td>H2O_from_python_bblanchard006_f1fmos</td></tr>\n",
       "<tr><td>H2O cluster total nodes:</td>\n",
       "<td>1</td></tr>\n",
       "<tr><td>H2O cluster free memory:</td>\n",
       "<td>3.556 Gb</td></tr>\n",
       "<tr><td>H2O cluster total cores:</td>\n",
       "<td>8</td></tr>\n",
       "<tr><td>H2O cluster allowed cores:</td>\n",
       "<td>8</td></tr>\n",
       "<tr><td>H2O cluster status:</td>\n",
       "<td>accepting new members, healthy</td></tr>\n",
       "<tr><td>H2O connection url:</td>\n",
       "<td>http://127.0.0.1:54321</td></tr>\n",
       "<tr><td>H2O connection proxy:</td>\n",
       "<td>None</td></tr>\n",
       "<tr><td>H2O internal security:</td>\n",
       "<td>False</td></tr>\n",
       "<tr><td>H2O API Extensions:</td>\n",
       "<td>Amazon S3, XGBoost, Algos, AutoML, Core V3, Core V4</td></tr>\n",
       "<tr><td>Python version:</td>\n",
       "<td>3.6.2 final</td></tr></table></div>"
      ],
      "text/plain": [
       "--------------------------  ---------------------------------------------------\n",
       "H2O cluster uptime:         03 secs\n",
       "H2O cluster timezone:       America/Chicago\n",
       "H2O data parsing timezone:  UTC\n",
       "H2O cluster version:        3.24.0.4\n",
       "H2O cluster version age:    1 year, 1 month and 15 days !!!\n",
       "H2O cluster name:           H2O_from_python_bblanchard006_f1fmos\n",
       "H2O cluster total nodes:    1\n",
       "H2O cluster free memory:    3.556 Gb\n",
       "H2O cluster total cores:    8\n",
       "H2O cluster allowed cores:  8\n",
       "H2O cluster status:         accepting new members, healthy\n",
       "H2O connection url:         http://127.0.0.1:54321\n",
       "H2O connection proxy:\n",
       "H2O internal security:      False\n",
       "H2O API Extensions:         Amazon S3, XGBoost, Algos, AutoML, Core V3, Core V4\n",
       "Python version:             3.6.2 final\n",
       "--------------------------  ---------------------------------------------------"
      ]
     },
     "metadata": {},
     "output_type": "display_data"
    }
   ],
   "source": [
    "try:\n",
    "    h2o.cluster().shutdown()\n",
    "    h2o.init()\n",
    "except:\n",
    "    h2o.init()"
   ]
  },
  {
   "cell_type": "markdown",
   "metadata": {},
   "source": [
    "## IMPORTANT: If you are rerunning this workflow and have not \"restarted your kernel\" you will need to run the \"cell\" above up to three times to clear the instances.\n",
    "\n",
    "**DO NOT PROCEED UNTIL** the above cell contains the following text (which will be visible just above a summary table):\n",
    "\n",
    "Connecting to H2O server at http://127.0.0.1:54321 ... successful."
   ]
  },
  {
   "cell_type": "markdown",
   "metadata": {},
   "source": [
    "Load your dataset into h2o by running the command below"
   ]
  },
  {
   "cell_type": "code",
   "execution_count": 18,
   "metadata": {},
   "outputs": [
    {
     "name": "stdout",
     "output_type": "stream",
     "text": [
      "Parse progress: |█████████████████████████████████████████████████████████| 100%\n"
     ]
    }
   ],
   "source": [
    "df = master_data['custom_table'].dropna(subset=[target.value])\n",
    "df = h2o.H2OFrame(df)"
   ]
  },
  {
   "cell_type": "markdown",
   "metadata": {},
   "source": [
    "Once the \"Parse progress:\" reaches 100% above, confirm that your dataset has been loaded correctly by reviewing the table below"
   ]
  },
  {
   "cell_type": "code",
   "execution_count": 19,
   "metadata": {},
   "outputs": [
    {
     "name": "stdout",
     "output_type": "stream",
     "text": [
      "Rows:1821\n",
      "Cols:19\n",
      "\n",
      "\n"
     ]
    },
    {
     "data": {
      "text/html": [
       "<table>\n",
       "<thead>\n",
       "<tr><th>       </th><th>attrition  </th><th>gender  </th><th>birthday           </th><th>age              </th><th>staff_category  </th><th>stock_options  </th><th>job_title                    </th><th>hire_date          </th><th>performance_rating  </th><th>employee_satisfaction  </th><th>last_promotion_date  </th><th>recent_salary     </th><th>prior_salary      </th><th>last_raise       </th><th>commute_distance  </th><th>percent_travel   </th><th>marital_status  </th><th>education       </th><th>employee_id      </th></tr>\n",
       "</thead>\n",
       "<tbody>\n",
       "<tr><td>type   </td><td>enum       </td><td>enum    </td><td>time               </td><td>int              </td><td>enum            </td><td>enum           </td><td>enum                         </td><td>time               </td><td>enum                </td><td>int                    </td><td>time                 </td><td>int               </td><td>int               </td><td>int              </td><td>int               </td><td>int              </td><td>enum            </td><td>enum            </td><td>int              </td></tr>\n",
       "<tr><td>mins   </td><td>           </td><td>        </td><td>-363916800000.0    </td><td>35.0             </td><td>                </td><td>               </td><td>                             </td><td>1055462400000.0    </td><td>                    </td><td>30.0                   </td><td>1370649600000.0      </td><td>50011.0           </td><td>43975.0           </td><td>0.0              </td><td>0.0               </td><td>10.0             </td><td>                </td><td>                </td><td>2001471061.0     </td></tr>\n",
       "<tr><td>mean   </td><td>           </td><td>        </td><td>46638919275.12354  </td><td>47.48489840746846</td><td>                </td><td>               </td><td>                             </td><td>1290267234266.8853 </td><td>                    </td><td>65.34761120263583      </td><td>1449648000000.001    </td><td>124521.48160351467</td><td>117040.99341021432</td><td>7480.488193300378</td><td>22.616694124107624</td><td>54.50356946732567</td><td>                </td><td>                </td><td>2001471971.0     </td></tr>\n",
       "<tr><td>maxs   </td><td>           </td><td>        </td><td>455587200000.0     </td><td>61.0             </td><td>                </td><td>               </td><td>                             </td><td>1527724800000.0    </td><td>                    </td><td>100.0                  </td><td>1528243200000.0      </td><td>199951.0          </td><td>199742.0          </td><td>25995.0          </td><td>45.0              </td><td>100.0            </td><td>                </td><td>                </td><td>2001472881.0     </td></tr>\n",
       "<tr><td>sigma  </td><td>           </td><td>        </td><td>232583109706.3411  </td><td>7.373729531330242</td><td>                </td><td>               </td><td>                             </td><td>134851567648.3689  </td><td>                    </td><td>20.591406536141868     </td><td>46311164189.200874   </td><td>43997.9719529909  </td><td>41595.736712280006</td><td>6361.386951585329</td><td>13.259258687170687</td><td>26.66300918276992</td><td>                </td><td>                </td><td>525.8217378541896</td></tr>\n",
       "<tr><td>zeros  </td><td>           </td><td>        </td><td>0                  </td><td>0                </td><td>                </td><td>               </td><td>                             </td><td>0                  </td><td>                    </td><td>0                      </td><td>0                    </td><td>0                 </td><td>0                 </td><td>327              </td><td>39                </td><td>0                </td><td>                </td><td>                </td><td>0                </td></tr>\n",
       "<tr><td>missing</td><td>0          </td><td>0       </td><td>0                  </td><td>0                </td><td>0               </td><td>0              </td><td>0                            </td><td>0                  </td><td>0                   </td><td>0                      </td><td>0                    </td><td>0                 </td><td>0                 </td><td>0                </td><td>0                 </td><td>0                </td><td>0               </td><td>0               </td><td>0                </td></tr>\n",
       "<tr><td>0      </td><td>No         </td><td>male    </td><td>1959-09-02 00:00:00</td><td>59.0             </td><td>Salaried        </td><td>Not Eligible   </td><td>Newspaper Editor-in-Chief    </td><td>2014-07-01 00:00:00</td><td>A                   </td><td>31.0                   </td><td>2018-03-08 00:00:00  </td><td>158975.0          </td><td>145848.0          </td><td>13127.0          </td><td>38.0              </td><td>72.0             </td><td>Single          </td><td>Graduate Degree </td><td>2001471061.0     </td></tr>\n",
       "<tr><td>1      </td><td>No         </td><td>female  </td><td>1965-12-05 00:00:00</td><td>53.0             </td><td>Salaried        </td><td>Not Eligible   </td><td>Facilities & Building Manager</td><td>2005-09-20 00:00:00</td><td>C                   </td><td>35.0                   </td><td>2017-12-09 00:00:00  </td><td>135190.0          </td><td>125175.0          </td><td>10015.0          </td><td>32.0              </td><td>93.0             </td><td>Single          </td><td>PhD             </td><td>2001471062.0     </td></tr>\n",
       "<tr><td>2      </td><td>No         </td><td>male    </td><td>1979-03-18 00:00:00</td><td>40.0             </td><td>Salaried        </td><td>Eligible       </td><td>Engineer Facilities Layout   </td><td>2004-11-10 00:00:00</td><td>D                   </td><td>75.0                   </td><td>2014-10-14 00:00:00  </td><td>150110.0          </td><td>141613.0          </td><td>8497.0           </td><td>0.0               </td><td>46.0             </td><td>Married         </td><td>Graduate Degree </td><td>2001471063.0     </td></tr>\n",
       "<tr><td>3      </td><td>No         </td><td>female  </td><td>1980-03-01 00:00:00</td><td>39.0             </td><td>Salaried        </td><td>Not Eligible   </td><td>Women's Apparel Salesperson  </td><td>2013-06-04 00:00:00</td><td>A                   </td><td>72.0                   </td><td>2018-01-30 00:00:00  </td><td>160265.0          </td><td>143093.0          </td><td>17172.0          </td><td>16.0              </td><td>18.0             </td><td>Single          </td><td>Bachelors Degree</td><td>2001471064.0     </td></tr>\n",
       "<tr><td>4      </td><td>Yes        </td><td>male    </td><td>1974-09-01 00:00:00</td><td>44.0             </td><td>Hourly          </td><td>Not Eligible   </td><td>Product Safety Engineer      </td><td>2006-03-22 00:00:00</td><td>B                   </td><td>39.0                   </td><td>2017-06-12 00:00:00  </td><td>116863.0          </td><td>110248.0          </td><td>6615.0           </td><td>29.0              </td><td>95.0             </td><td>Married         </td><td>Some College    </td><td>2001471065.0     </td></tr>\n",
       "<tr><td>5      </td><td>No         </td><td>female  </td><td>1969-01-17 00:00:00</td><td>50.0             </td><td>Salaried        </td><td>Not Eligible   </td><td>IT Field Representative      </td><td>2017-04-07 00:00:00</td><td>A                   </td><td>69.0                   </td><td>2015-10-15 00:00:00  </td><td>172459.0          </td><td>159684.0          </td><td>12775.0          </td><td>20.0              </td><td>41.0             </td><td>Single          </td><td>Some College    </td><td>2001471066.0     </td></tr>\n",
       "<tr><td>6      </td><td>No         </td><td>female  </td><td>1979-03-11 00:00:00</td><td>40.0             </td><td>Salaried        </td><td>Not Eligible   </td><td>Maintenance Helper           </td><td>2004-03-30 00:00:00</td><td>A                   </td><td>43.0                   </td><td>2014-01-21 00:00:00  </td><td>65816.0           </td><td>60940.0           </td><td>4876.0           </td><td>3.0               </td><td>23.0             </td><td>Married         </td><td>Graduate Degree </td><td>2001471067.0     </td></tr>\n",
       "<tr><td>7      </td><td>Yes        </td><td>female  </td><td>1972-12-26 00:00:00</td><td>46.0             </td><td>Salaried        </td><td>Not Eligible   </td><td>Dean of Students             </td><td>2018-05-23 00:00:00</td><td>A                   </td><td>38.0                   </td><td>2016-08-02 00:00:00  </td><td>195400.0          </td><td>182616.0          </td><td>12784.0          </td><td>14.0              </td><td>90.0             </td><td>Single          </td><td>Some College    </td><td>2001471068.0     </td></tr>\n",
       "<tr><td>8      </td><td>Yes        </td><td>female  </td><td>1973-03-09 00:00:00</td><td>46.0             </td><td>Hourly          </td><td>Not Eligible   </td><td>Medical Orthoptist           </td><td>2006-04-14 00:00:00</td><td>A                   </td><td>57.0                   </td><td>2016-04-24 00:00:00  </td><td>134292.0          </td><td>134292.0          </td><td>0.0              </td><td>13.0              </td><td>26.0             </td><td>Married         </td><td>PhD             </td><td>2001471069.0     </td></tr>\n",
       "<tr><td>9      </td><td>No         </td><td>female  </td><td>1961-03-19 00:00:00</td><td>58.0             </td><td>Salaried        </td><td>Not Eligible   </td><td>Platemaker Lithographic      </td><td>2008-04-25 00:00:00</td><td>A                   </td><td>50.0                   </td><td>2017-11-04 00:00:00  </td><td>194592.0          </td><td>170694.0          </td><td>23898.0          </td><td>29.0              </td><td>81.0             </td><td>Married         </td><td>Graduate Degree </td><td>2001471070.0     </td></tr>\n",
       "</tbody>\n",
       "</table>"
      ]
     },
     "metadata": {},
     "output_type": "display_data"
    }
   ],
   "source": [
    "df.describe()"
   ]
  },
  {
   "cell_type": "markdown",
   "metadata": {},
   "source": [
    "If your \"Target\" variable is categorical, the code below will convert it to a factor before modeling"
   ]
  },
  {
   "cell_type": "code",
   "execution_count": 20,
   "metadata": {},
   "outputs": [],
   "source": [
    "if target_type.value == 'Categorical':\n",
    "    df[target.value] = df[target.value].asfactor()"
   ]
  },
  {
   "cell_type": "markdown",
   "metadata": {},
   "source": [
    "## 2.3 - Configure Models\n",
    "\n",
    "The parameters below can be left in their default settings or modified to meet your specific requirements."
   ]
  },
  {
   "cell_type": "code",
   "execution_count": 21,
   "metadata": {},
   "outputs": [
    {
     "data": {
      "application/vnd.jupyter.widget-view+json": {
       "model_id": "c3523fdcf9b74fe69d0d4954c4dc3490",
       "version_major": 2,
       "version_minor": 0
      },
      "text/plain": [
       "Text(value='My Project Name', description='Project:', layout=Layout(width='50%'), placeholder='My Project Name…"
      ]
     },
     "metadata": {},
     "output_type": "display_data"
    },
    {
     "data": {
      "application/vnd.jupyter.widget-view+json": {
       "model_id": "d8baf8da467646bbbb8c70e5d234e6bc",
       "version_major": 2,
       "version_minor": 0
      },
      "text/plain": [
       "interactive(children=(RadioButtons(description='Sampling:', options=('Train | Test', 'Cross Validation', 'Use …"
      ]
     },
     "metadata": {},
     "output_type": "display_data"
    },
    {
     "data": {
      "application/vnd.jupyter.widget-view+json": {
       "model_id": "3a278be596d445998da203e7a0b19865",
       "version_major": 2,
       "version_minor": 0
      },
      "text/plain": [
       "interactive(children=(RadioButtons(description='Algorithms:', options=('Use defaults', 'Select from list'), va…"
      ]
     },
     "metadata": {},
     "output_type": "display_data"
    },
    {
     "data": {
      "application/vnd.jupyter.widget-view+json": {
       "model_id": "21f6020babc445eb97392fc9c7e1bcf7",
       "version_major": 2,
       "version_minor": 0
      },
      "text/plain": [
       "IntSlider(value=5, description='Run (min):', max=60, min=1)"
      ]
     },
     "metadata": {},
     "output_type": "display_data"
    },
    {
     "name": "stdout",
     "output_type": "stream",
     "text": [
      "The Run (min) value will determine how long the process builds models\n"
     ]
    }
   ],
   "source": [
    "sample_type = widgets.RadioButtons(\n",
    "    options=['Train | Test', 'Cross Validation', 'Use Data Field'],\n",
    "    description='Sampling:',\n",
    "    disabled=False\n",
    ")\n",
    "\n",
    "train_perc = widgets.FloatSlider(\n",
    "    value=.70,\n",
    "    min=.50,\n",
    "    max=.80,\n",
    "    step=.01,\n",
    "    description='Train %:',\n",
    "    disabled=False,\n",
    "    continuous_update=True,\n",
    "    orientation='horizontal',\n",
    "    readout=True,\n",
    "    readout_format='.2f'\n",
    ")\n",
    "\n",
    "nfolds = widgets.IntSlider(\n",
    "    value=3,\n",
    "    min=3,\n",
    "    max=10,\n",
    "    step=1,\n",
    "    description='CV Folds:',\n",
    "    disabled=False,\n",
    "    continuous_update=True,\n",
    "    orientation='horizontal',\n",
    "    readout=True,\n",
    "    readout_format='d'\n",
    ")\n",
    "\n",
    "project_name = widgets.Text(\n",
    "    value='My Project Name',\n",
    "#     value='Crash_Qtr02_2018.xlsx'\n",
    "    placeholder='My Project Name',\n",
    "    description='Project:',\n",
    "    disabled=False,\n",
    "    layout=Layout(width='50%')\n",
    ")\n",
    "\n",
    "include_algos = widgets.SelectMultiple(\n",
    "    options=['DRF','GLM','XGBoost','GBM','DeepLearning','StackedEnsemble'],\n",
    "    description='Include:',\n",
    "    disabled=False,\n",
    ")\n",
    "\n",
    "specify_algos = widgets.RadioButtons(\n",
    "    options=[\"Use defaults\" , 'Select from list'],\n",
    "    description='Algorithms:',\n",
    "    disabled=False\n",
    ")\n",
    "\n",
    "run_time_mins = widgets.IntSlider(\n",
    "    value=5,\n",
    "    min=1,\n",
    "    max=60,\n",
    "    step=1,\n",
    "    description='Run (min):',\n",
    "    disabled=False,\n",
    "    continuous_update=True,\n",
    "    orientation='horizontal',\n",
    "    readout=True,\n",
    "    readout_format='d'\n",
    ")\n",
    "\n",
    "def algo_select(x):\n",
    "    if(x=='Select from list'):\n",
    "        display(include_algos)\n",
    "    else:\n",
    "        print('Using all available algorithms')\n",
    "\n",
    "def sampling(x):\n",
    "    if(x=='Train | Test'):\n",
    "        display(train_perc)\n",
    "    elif (x=='Cross Validation'):\n",
    "        display(nfolds)\n",
    "        print('Train %: Not needed for Cross Validation')\n",
    "    else:\n",
    "        display(sample_fields)\n",
    "        print('Sampling field to be selected in the next cell')\n",
    "\n",
    "        \n",
    "sample_fields = widgets.Select(\n",
    "    options=master_data['custom_table'].columns.tolist(),\n",
    "    description='Sample on:',\n",
    "    disabled=False\n",
    ")\n",
    "\n",
    "def sample_labels(x):\n",
    "    train_label = widgets.Select(\n",
    "        options=master_data['custom_table'][x].unique().tolist(),\n",
    "        description='Train Label:',\n",
    "        disabled=False\n",
    "    )\n",
    "\n",
    "    display(train_label)\n",
    "\n",
    "f = widgets.interactive(sampling, x=sample_type)\n",
    "g = widgets.interactive(algo_select, x=specify_algos)\n",
    "\n",
    "display(project_name,f,g,run_time_mins)\n",
    "print('The Run (min) value will determine how long the process builds models')"
   ]
  },
  {
   "cell_type": "markdown",
   "metadata": {},
   "source": [
    "## Reminder: Do not rerun the cell above after applying your inputs\n",
    "\n",
    "### Click on and Run this cell to proceed\n",
    "\n",
    "If you have already included a field to separate your data into a training and testing set, please select which label in the field should be used as your training data.  All other labels will be assigned to the testing set."
   ]
  },
  {
   "cell_type": "code",
   "execution_count": 22,
   "metadata": {},
   "outputs": [
    {
     "name": "stdout",
     "output_type": "stream",
     "text": [
      "If you have already created a sampling field in your dataset, please select the label that designates your training data\n"
     ]
    },
    {
     "data": {
      "application/vnd.jupyter.widget-view+json": {
       "model_id": "7ac14592377849d3a5a15121e726eb12",
       "version_major": 2,
       "version_minor": 0
      },
      "text/plain": [
       "interactive(children=(Text(value='Train | Test', description='Method'), Output()), _dom_classes=('widget-inter…"
      ]
     },
     "metadata": {},
     "output_type": "display_data"
    }
   ],
   "source": [
    "def sample_by_field(Method):\n",
    "    if(Method=='Use Data Field'):\n",
    "        display(sample_field_label_value)\n",
    "    else:\n",
    "        print('Using h2o.ai sampling procedure')\n",
    "       \n",
    "sample_field_label_value = widgets.Select(\n",
    "    options=master_data['custom_table'][sample_fields.value].unique().tolist(),\n",
    "    description='Train on:',\n",
    "    disabled=False\n",
    ")\n",
    "\n",
    "print(\"If you have already created a sampling field in your dataset, please select the label that designates your training data\")\n",
    "b = widgets.interactive(sample_by_field, Method=sample_type.value)\n",
    "\n",
    "display(b)\n"
   ]
  },
  {
   "cell_type": "markdown",
   "metadata": {},
   "source": [
    "## Reminder: Do not rerun the cell above after applying your inputs\n",
    "\n",
    "### Click on and Run this cell to proceed\n",
    "The code below will compile the settings you have selected above into the H2OAutoML function"
   ]
  },
  {
   "cell_type": "code",
   "execution_count": 23,
   "metadata": {},
   "outputs": [],
   "source": [
    "if sample_type.value == 'Train | Test':\n",
    "    cv_folds = 0\n",
    "    splits = df.split_frame(ratios = [train_perc.value], seed = 1)\n",
    "    train = splits[0]\n",
    "    test = splits[1]\n",
    "elif sample_type.value == 'Use Data Field':\n",
    "    cv_folds = 0\n",
    "    train = df[df[sample_fields.value] == sample_field_label_value.value]\n",
    "    train = train.drop(sample_fields.value)\n",
    "    test = df[df[sample_fields.value] != sample_field_label_value.value]\n",
    "    test = test.drop(sample_fields.value)\n",
    "else:\n",
    "    cv_folds = nfolds.value\n",
    "\n",
    "min_to_secs = run_time_mins.value*60    \n",
    "\n",
    "algo_list = [x for x in include_algos.value]\n",
    "\n",
    "if specify_algos.value == 'Use defaults':\n",
    "    aml = H2OAutoML(max_runtime_secs = min_to_secs, seed = 1, project_name = project_name.value, nfolds=cv_folds)\n",
    "else:\n",
    "    aml = H2OAutoML(max_runtime_secs = min_to_secs, seed = 1, project_name = project_name.value, include_algos = algo_list, nfolds=cv_folds)\n"
   ]
  },
  {
   "cell_type": "markdown",
   "metadata": {},
   "source": [
    "## 2.4 - Automatically Train Models\n",
    "\n",
    "The code below will automatically generate as many models as possible within the time you have permitted.  If you have selected \"Cross Validation\" as your \"Sampling\" method above, note that the entire dataset will be used in modeling bby leveraging the \"CV Folds\" (Cross Validation Folds) you have entered.\n",
    "\n",
    "**NOTE:** This process will run for the number of minutes you have selected above and may provide different results if run iteratively based on the time it takes for specific algorithms to train."
   ]
  },
  {
   "cell_type": "code",
   "execution_count": 24,
   "metadata": {},
   "outputs": [
    {
     "name": "stdout",
     "output_type": "stream",
     "text": [
      "AutoML progress: |████████████████████████████████████████████████████████| 100%\n"
     ]
    }
   ],
   "source": [
    "if sample_type.value == 'Cross Validation':\n",
    "    aml.train(y = target.value, training_frame = df)\n",
    "else:\n",
    "    aml.train(y = target.value, training_frame = train, validation_frame = test, leaderboard_frame = test)"
   ]
  },
  {
   "cell_type": "markdown",
   "metadata": {},
   "source": [
    "Once the cell above shows 100%, executing the code cell below will show the \"leaderboard\" based on the specific evaluation metric you have selected to rank\n",
    "\n",
    "**Ranking:** The ranking defaults to AUC for binary classification, mean_per_class_error for multinomial classification, and deviance for regression."
   ]
  },
  {
   "cell_type": "code",
   "execution_count": 25,
   "metadata": {},
   "outputs": [
    {
     "data": {
      "text/html": [
       "<table>\n",
       "<thead>\n",
       "<tr><th>model_id                                 </th><th style=\"text-align: right;\">     auc</th><th style=\"text-align: right;\">  logloss</th><th style=\"text-align: right;\">  mean_per_class_error</th><th style=\"text-align: right;\">    rmse</th><th style=\"text-align: right;\">     mse</th></tr>\n",
       "</thead>\n",
       "<tbody>\n",
       "<tr><td>GLM_grid_1_AutoML_20200714_102814_model_1</td><td style=\"text-align: right;\">0.649115</td><td style=\"text-align: right;\"> 0.534161</td><td style=\"text-align: right;\">              0.350132</td><td style=\"text-align: right;\">0.421315</td><td style=\"text-align: right;\">0.177506</td></tr>\n",
       "<tr><td>GBM_grid_1_AutoML_20200714_102814_model_2</td><td style=\"text-align: right;\">0.648393</td><td style=\"text-align: right;\"> 0.550277</td><td style=\"text-align: right;\">              0.361231</td><td style=\"text-align: right;\">0.427261</td><td style=\"text-align: right;\">0.182552</td></tr>\n",
       "<tr><td>GBM_5_AutoML_20200714_102814             </td><td style=\"text-align: right;\">0.647437</td><td style=\"text-align: right;\"> 0.540509</td><td style=\"text-align: right;\">              0.358891</td><td style=\"text-align: right;\">0.425732</td><td style=\"text-align: right;\">0.181248</td></tr>\n",
       "<tr><td>GBM_3_AutoML_20200714_102814             </td><td style=\"text-align: right;\">0.634593</td><td style=\"text-align: right;\"> 0.571767</td><td style=\"text-align: right;\">              0.360343</td><td style=\"text-align: right;\">0.436944</td><td style=\"text-align: right;\">0.19092 </td></tr>\n",
       "<tr><td>GBM_2_AutoML_20200714_102814             </td><td style=\"text-align: right;\">0.632645</td><td style=\"text-align: right;\"> 0.565326</td><td style=\"text-align: right;\">              0.383578</td><td style=\"text-align: right;\">0.431975</td><td style=\"text-align: right;\">0.186603</td></tr>\n",
       "<tr><td>GBM_4_AutoML_20200714_102814             </td><td style=\"text-align: right;\">0.627272</td><td style=\"text-align: right;\"> 0.584701</td><td style=\"text-align: right;\">              0.371102</td><td style=\"text-align: right;\">0.440899</td><td style=\"text-align: right;\">0.194392</td></tr>\n",
       "<tr><td>GBM_grid_1_AutoML_20200714_102814_model_5</td><td style=\"text-align: right;\">0.624398</td><td style=\"text-align: right;\"> 0.553802</td><td style=\"text-align: right;\">              0.39375 </td><td style=\"text-align: right;\">0.430735</td><td style=\"text-align: right;\">0.185533</td></tr>\n",
       "<tr><td>GBM_grid_1_AutoML_20200714_102814_model_6</td><td style=\"text-align: right;\">0.611908</td><td style=\"text-align: right;\"> 0.568717</td><td style=\"text-align: right;\">              0.412854</td><td style=\"text-align: right;\">0.436143</td><td style=\"text-align: right;\">0.19022 </td></tr>\n",
       "<tr><td>GBM_grid_1_AutoML_20200714_102814_model_1</td><td style=\"text-align: right;\">0.611577</td><td style=\"text-align: right;\"> 0.556418</td><td style=\"text-align: right;\">              0.387994</td><td style=\"text-align: right;\">0.430166</td><td style=\"text-align: right;\">0.185043</td></tr>\n",
       "<tr><td>GBM_1_AutoML_20200714_102814             </td><td style=\"text-align: right;\">0.609282</td><td style=\"text-align: right;\"> 0.574992</td><td style=\"text-align: right;\">              0.39141 </td><td style=\"text-align: right;\">0.437953</td><td style=\"text-align: right;\">0.191803</td></tr>\n",
       "</tbody>\n",
       "</table>"
      ]
     },
     "metadata": {},
     "output_type": "display_data"
    },
    {
     "data": {
      "text/plain": []
     },
     "execution_count": 25,
     "metadata": {},
     "output_type": "execute_result"
    }
   ],
   "source": [
    "aml.leaderboard"
   ]
  },
  {
   "cell_type": "markdown",
   "metadata": {},
   "source": [
    "The following code returns a summary of the top performing model (per the leaderboard above) and how it performed on either the full dataset (if Cross Validation was selected) or the test dataset (if a training set was used during modeling)"
   ]
  },
  {
   "cell_type": "code",
   "execution_count": 26,
   "metadata": {},
   "outputs": [
    {
     "name": "stdout",
     "output_type": "stream",
     "text": [
      "\n",
      "ModelMetricsBinomialGLM: glm\n",
      "** Reported on test data. **\n",
      "\n",
      "MSE: 0.1775060208648697\n",
      "RMSE: 0.4213146340502187\n",
      "LogLoss: 0.5341612377444626\n",
      "Null degrees of freedom: 596\n",
      "Residual degrees of freedom: -492\n",
      "Null deviance: 672.8417399872351\n",
      "Residual deviance: 637.7885178668881\n",
      "AIC: 2815.788517866888\n",
      "AUC: 0.6491151507855294\n",
      "pr_auc: 0.3303562349464561\n",
      "Gini: 0.2982303015710588\n",
      "Confusion Matrix (Act/Pred) for max f1 @ threshold = 0.28950042570622475: \n"
     ]
    },
    {
     "data": {
      "text/html": [
       "<div style=\"overflow:auto\"><table style=\"width:50%\"><tr><td><b></b></td>\n",
       "<td><b>No</b></td>\n",
       "<td><b>Yes</b></td>\n",
       "<td><b>Error</b></td>\n",
       "<td><b>Rate</b></td></tr>\n",
       "<tr><td>No</td>\n",
       "<td>262.0</td>\n",
       "<td>187.0</td>\n",
       "<td>0.4165</td>\n",
       "<td> (187.0/449.0)</td></tr>\n",
       "<tr><td>Yes</td>\n",
       "<td>42.0</td>\n",
       "<td>106.0</td>\n",
       "<td>0.2838</td>\n",
       "<td> (42.0/148.0)</td></tr>\n",
       "<tr><td>Total</td>\n",
       "<td>304.0</td>\n",
       "<td>293.0</td>\n",
       "<td>0.3836</td>\n",
       "<td> (229.0/597.0)</td></tr></table></div>"
      ],
      "text/plain": [
       "       No    Yes    Error    Rate\n",
       "-----  ----  -----  -------  -------------\n",
       "No     262   187    0.4165   (187.0/449.0)\n",
       "Yes    42    106    0.2838   (42.0/148.0)\n",
       "Total  304   293    0.3836   (229.0/597.0)"
      ]
     },
     "metadata": {},
     "output_type": "display_data"
    },
    {
     "name": "stdout",
     "output_type": "stream",
     "text": [
      "Maximum Metrics: Maximum metrics at their respective thresholds\n",
      "\n"
     ]
    },
    {
     "data": {
      "text/html": [
       "<div style=\"overflow:auto\"><table style=\"width:50%\"><tr><td><b>metric</b></td>\n",
       "<td><b>threshold</b></td>\n",
       "<td><b>value</b></td>\n",
       "<td><b>idx</b></td></tr>\n",
       "<tr><td>max f1</td>\n",
       "<td>0.2895004</td>\n",
       "<td>0.4807256</td>\n",
       "<td>205.0</td></tr>\n",
       "<tr><td>max f2</td>\n",
       "<td>0.1351651</td>\n",
       "<td>0.6336806</td>\n",
       "<td>373.0</td></tr>\n",
       "<tr><td>max f0point5</td>\n",
       "<td>0.3166563</td>\n",
       "<td>0.4060510</td>\n",
       "<td>191.0</td></tr>\n",
       "<tr><td>max accuracy</td>\n",
       "<td>0.5500769</td>\n",
       "<td>0.7487437</td>\n",
       "<td>0.0</td></tr>\n",
       "<tr><td>max precision</td>\n",
       "<td>0.4662017</td>\n",
       "<td>0.3913043</td>\n",
       "<td>19.0</td></tr>\n",
       "<tr><td>max recall</td>\n",
       "<td>0.1165627</td>\n",
       "<td>1.0</td>\n",
       "<td>394.0</td></tr>\n",
       "<tr><td>max specificity</td>\n",
       "<td>0.5500769</td>\n",
       "<td>0.9955457</td>\n",
       "<td>0.0</td></tr>\n",
       "<tr><td>max absolute_mcc</td>\n",
       "<td>0.3166563</td>\n",
       "<td>0.2592630</td>\n",
       "<td>191.0</td></tr>\n",
       "<tr><td>max min_per_class_accuracy</td>\n",
       "<td>0.3295935</td>\n",
       "<td>0.6347439</td>\n",
       "<td>176.0</td></tr>\n",
       "<tr><td>max mean_per_class_accuracy</td>\n",
       "<td>0.2895004</td>\n",
       "<td>0.6498676</td>\n",
       "<td>205.0</td></tr></table></div>"
      ],
      "text/plain": [
       "metric                       threshold    value     idx\n",
       "---------------------------  -----------  --------  -----\n",
       "max f1                       0.2895       0.480726  205\n",
       "max f2                       0.135165     0.633681  373\n",
       "max f0point5                 0.316656     0.406051  191\n",
       "max accuracy                 0.550077     0.748744  0\n",
       "max precision                0.466202     0.391304  19\n",
       "max recall                   0.116563     1         394\n",
       "max specificity              0.550077     0.995546  0\n",
       "max absolute_mcc             0.316656     0.259263  191\n",
       "max min_per_class_accuracy   0.329593     0.634744  176\n",
       "max mean_per_class_accuracy  0.2895       0.649868  205"
      ]
     },
     "metadata": {},
     "output_type": "display_data"
    },
    {
     "name": "stdout",
     "output_type": "stream",
     "text": [
      "Gains/Lift Table: Avg response rate: 24.79 %, avg score: 27.99 %\n",
      "\n"
     ]
    },
    {
     "data": {
      "text/html": [
       "<div style=\"overflow:auto\"><table style=\"width:50%\"><tr><td><b></b></td>\n",
       "<td><b>group</b></td>\n",
       "<td><b>cumulative_data_fraction</b></td>\n",
       "<td><b>lower_threshold</b></td>\n",
       "<td><b>lift</b></td>\n",
       "<td><b>cumulative_lift</b></td>\n",
       "<td><b>response_rate</b></td>\n",
       "<td><b>score</b></td>\n",
       "<td><b>cumulative_response_rate</b></td>\n",
       "<td><b>cumulative_score</b></td>\n",
       "<td><b>capture_rate</b></td>\n",
       "<td><b>cumulative_capture_rate</b></td>\n",
       "<td><b>gain</b></td>\n",
       "<td><b>cumulative_gain</b></td></tr>\n",
       "<tr><td></td>\n",
       "<td>1</td>\n",
       "<td>0.0100503</td>\n",
       "<td>0.5174730</td>\n",
       "<td>1.3445946</td>\n",
       "<td>1.3445946</td>\n",
       "<td>0.3333333</td>\n",
       "<td>0.5380548</td>\n",
       "<td>0.3333333</td>\n",
       "<td>0.5380548</td>\n",
       "<td>0.0135135</td>\n",
       "<td>0.0135135</td>\n",
       "<td>34.4594595</td>\n",
       "<td>34.4594595</td></tr>\n",
       "<tr><td></td>\n",
       "<td>2</td>\n",
       "<td>0.0201005</td>\n",
       "<td>0.4863702</td>\n",
       "<td>1.3445946</td>\n",
       "<td>1.3445946</td>\n",
       "<td>0.3333333</td>\n",
       "<td>0.4993472</td>\n",
       "<td>0.3333333</td>\n",
       "<td>0.5187010</td>\n",
       "<td>0.0135135</td>\n",
       "<td>0.0270270</td>\n",
       "<td>34.4594595</td>\n",
       "<td>34.4594595</td></tr>\n",
       "<tr><td></td>\n",
       "<td>3</td>\n",
       "<td>0.0301508</td>\n",
       "<td>0.4730982</td>\n",
       "<td>1.3445946</td>\n",
       "<td>1.3445946</td>\n",
       "<td>0.3333333</td>\n",
       "<td>0.4806608</td>\n",
       "<td>0.3333333</td>\n",
       "<td>0.5060209</td>\n",
       "<td>0.0135135</td>\n",
       "<td>0.0405405</td>\n",
       "<td>34.4594595</td>\n",
       "<td>34.4594595</td></tr>\n",
       "<tr><td></td>\n",
       "<td>4</td>\n",
       "<td>0.0402010</td>\n",
       "<td>0.4628121</td>\n",
       "<td>2.0168919</td>\n",
       "<td>1.5126689</td>\n",
       "<td>0.5</td>\n",
       "<td>0.4694290</td>\n",
       "<td>0.375</td>\n",
       "<td>0.4968729</td>\n",
       "<td>0.0202703</td>\n",
       "<td>0.0608108</td>\n",
       "<td>101.6891892</td>\n",
       "<td>51.2668919</td></tr>\n",
       "<tr><td></td>\n",
       "<td>5</td>\n",
       "<td>0.0502513</td>\n",
       "<td>0.4510033</td>\n",
       "<td>1.3445946</td>\n",
       "<td>1.4790541</td>\n",
       "<td>0.3333333</td>\n",
       "<td>0.4574780</td>\n",
       "<td>0.3666667</td>\n",
       "<td>0.4889940</td>\n",
       "<td>0.0135135</td>\n",
       "<td>0.0743243</td>\n",
       "<td>34.4594595</td>\n",
       "<td>47.9054054</td></tr>\n",
       "<tr><td></td>\n",
       "<td>6</td>\n",
       "<td>0.1005025</td>\n",
       "<td>0.4264388</td>\n",
       "<td>1.3445946</td>\n",
       "<td>1.4118243</td>\n",
       "<td>0.3333333</td>\n",
       "<td>0.4406805</td>\n",
       "<td>0.35</td>\n",
       "<td>0.4648372</td>\n",
       "<td>0.0675676</td>\n",
       "<td>0.1418919</td>\n",
       "<td>34.4594595</td>\n",
       "<td>41.1824324</td></tr>\n",
       "<tr><td></td>\n",
       "<td>7</td>\n",
       "<td>0.1507538</td>\n",
       "<td>0.4106349</td>\n",
       "<td>0.6722973</td>\n",
       "<td>1.1653153</td>\n",
       "<td>0.1666667</td>\n",
       "<td>0.4182481</td>\n",
       "<td>0.2888889</td>\n",
       "<td>0.4493075</td>\n",
       "<td>0.0337838</td>\n",
       "<td>0.1756757</td>\n",
       "<td>-32.7702703</td>\n",
       "<td>16.5315315</td></tr>\n",
       "<tr><td></td>\n",
       "<td>8</td>\n",
       "<td>0.2010050</td>\n",
       "<td>0.3961620</td>\n",
       "<td>1.7479730</td>\n",
       "<td>1.3109797</td>\n",
       "<td>0.4333333</td>\n",
       "<td>0.4043545</td>\n",
       "<td>0.325</td>\n",
       "<td>0.4380693</td>\n",
       "<td>0.0878378</td>\n",
       "<td>0.2635135</td>\n",
       "<td>74.7972973</td>\n",
       "<td>31.0979730</td></tr>\n",
       "<tr><td></td>\n",
       "<td>9</td>\n",
       "<td>0.2998325</td>\n",
       "<td>0.3711190</td>\n",
       "<td>1.8459689</td>\n",
       "<td>1.4873169</td>\n",
       "<td>0.4576271</td>\n",
       "<td>0.3819170</td>\n",
       "<td>0.3687151</td>\n",
       "<td>0.4195610</td>\n",
       "<td>0.1824324</td>\n",
       "<td>0.4459459</td>\n",
       "<td>84.5968850</td>\n",
       "<td>48.7316926</td></tr>\n",
       "<tr><td></td>\n",
       "<td>10</td>\n",
       "<td>0.4003350</td>\n",
       "<td>0.3406036</td>\n",
       "<td>1.3445946</td>\n",
       "<td>1.4514871</td>\n",
       "<td>0.3333333</td>\n",
       "<td>0.3583096</td>\n",
       "<td>0.3598326</td>\n",
       "<td>0.4041841</td>\n",
       "<td>0.1351351</td>\n",
       "<td>0.5810811</td>\n",
       "<td>34.4594595</td>\n",
       "<td>45.1487052</td></tr>\n",
       "<tr><td></td>\n",
       "<td>11</td>\n",
       "<td>0.5008375</td>\n",
       "<td>0.2611479</td>\n",
       "<td>1.3445946</td>\n",
       "<td>1.4300371</td>\n",
       "<td>0.3333333</td>\n",
       "<td>0.3167138</td>\n",
       "<td>0.3545151</td>\n",
       "<td>0.3866315</td>\n",
       "<td>0.1351351</td>\n",
       "<td>0.7162162</td>\n",
       "<td>34.4594595</td>\n",
       "<td>43.0037060</td></tr>\n",
       "<tr><td></td>\n",
       "<td>12</td>\n",
       "<td>0.5996650</td>\n",
       "<td>0.2030705</td>\n",
       "<td>0.6153230</td>\n",
       "<td>1.2957685</td>\n",
       "<td>0.1525424</td>\n",
       "<td>0.2210498</td>\n",
       "<td>0.3212291</td>\n",
       "<td>0.3593429</td>\n",
       "<td>0.0608108</td>\n",
       "<td>0.7770270</td>\n",
       "<td>-38.4677050</td>\n",
       "<td>29.5768534</td></tr>\n",
       "<tr><td></td>\n",
       "<td>13</td>\n",
       "<td>0.7001675</td>\n",
       "<td>0.1818351</td>\n",
       "<td>0.6722973</td>\n",
       "<td>1.2062751</td>\n",
       "<td>0.1666667</td>\n",
       "<td>0.1918475</td>\n",
       "<td>0.2990431</td>\n",
       "<td>0.3353005</td>\n",
       "<td>0.0675676</td>\n",
       "<td>0.8445946</td>\n",
       "<td>-32.7702703</td>\n",
       "<td>20.6275055</td></tr>\n",
       "<tr><td></td>\n",
       "<td>14</td>\n",
       "<td>0.7989950</td>\n",
       "<td>0.1620771</td>\n",
       "<td>0.4785845</td>\n",
       "<td>1.1162672</td>\n",
       "<td>0.1186441</td>\n",
       "<td>0.1698209</td>\n",
       "<td>0.2767296</td>\n",
       "<td>0.3148324</td>\n",
       "<td>0.0472973</td>\n",
       "<td>0.8918919</td>\n",
       "<td>-52.1415483</td>\n",
       "<td>11.6267211</td></tr>\n",
       "<tr><td></td>\n",
       "<td>15</td>\n",
       "<td>0.8994975</td>\n",
       "<td>0.1436574</td>\n",
       "<td>0.6050676</td>\n",
       "<td>1.0591499</td>\n",
       "<td>0.15</td>\n",
       "<td>0.1525222</td>\n",
       "<td>0.2625698</td>\n",
       "<td>0.2966972</td>\n",
       "<td>0.0608108</td>\n",
       "<td>0.9527027</td>\n",
       "<td>-39.4932432</td>\n",
       "<td>5.9149932</td></tr>\n",
       "<tr><td></td>\n",
       "<td>16</td>\n",
       "<td>1.0</td>\n",
       "<td>0.1096293</td>\n",
       "<td>0.4706081</td>\n",
       "<td>1.0</td>\n",
       "<td>0.1166667</td>\n",
       "<td>0.1299465</td>\n",
       "<td>0.2479062</td>\n",
       "<td>0.2799383</td>\n",
       "<td>0.0472973</td>\n",
       "<td>1.0</td>\n",
       "<td>-52.9391892</td>\n",
       "<td>0.0</td></tr></table></div>"
      ],
      "text/plain": [
       "    group    cumulative_data_fraction    lower_threshold    lift      cumulative_lift    response_rate    score     cumulative_response_rate    cumulative_score    capture_rate    cumulative_capture_rate    gain      cumulative_gain\n",
       "--  -------  --------------------------  -----------------  --------  -----------------  ---------------  --------  --------------------------  ------------------  --------------  -------------------------  --------  -----------------\n",
       "    1        0.0100503                   0.517473           1.34459   1.34459            0.333333         0.538055  0.333333                    0.538055            0.0135135       0.0135135                  34.4595   34.4595\n",
       "    2        0.0201005                   0.48637            1.34459   1.34459            0.333333         0.499347  0.333333                    0.518701            0.0135135       0.027027                   34.4595   34.4595\n",
       "    3        0.0301508                   0.473098           1.34459   1.34459            0.333333         0.480661  0.333333                    0.506021            0.0135135       0.0405405                  34.4595   34.4595\n",
       "    4        0.040201                    0.462812           2.01689   1.51267            0.5              0.469429  0.375                       0.496873            0.0202703       0.0608108                  101.689   51.2669\n",
       "    5        0.0502513                   0.451003           1.34459   1.47905            0.333333         0.457478  0.366667                    0.488994            0.0135135       0.0743243                  34.4595   47.9054\n",
       "    6        0.100503                    0.426439           1.34459   1.41182            0.333333         0.440681  0.35                        0.464837            0.0675676       0.141892                   34.4595   41.1824\n",
       "    7        0.150754                    0.410635           0.672297  1.16532            0.166667         0.418248  0.288889                    0.449308            0.0337838       0.175676                   -32.7703  16.5315\n",
       "    8        0.201005                    0.396162           1.74797   1.31098            0.433333         0.404354  0.325                       0.438069            0.0878378       0.263514                   74.7973   31.098\n",
       "    9        0.299832                    0.371119           1.84597   1.48732            0.457627         0.381917  0.368715                    0.419561            0.182432        0.445946                   84.5969   48.7317\n",
       "    10       0.400335                    0.340604           1.34459   1.45149            0.333333         0.35831   0.359833                    0.404184            0.135135        0.581081                   34.4595   45.1487\n",
       "    11       0.500838                    0.261148           1.34459   1.43004            0.333333         0.316714  0.354515                    0.386632            0.135135        0.716216                   34.4595   43.0037\n",
       "    12       0.599665                    0.20307            0.615323  1.29577            0.152542         0.22105   0.321229                    0.359343            0.0608108       0.777027                   -38.4677  29.5769\n",
       "    13       0.700168                    0.181835           0.672297  1.20628            0.166667         0.191848  0.299043                    0.3353              0.0675676       0.844595                   -32.7703  20.6275\n",
       "    14       0.798995                    0.162077           0.478585  1.11627            0.118644         0.169821  0.27673                     0.314832            0.0472973       0.891892                   -52.1415  11.6267\n",
       "    15       0.899497                    0.143657           0.605068  1.05915            0.15             0.152522  0.26257                     0.296697            0.0608108       0.952703                   -39.4932  5.91499\n",
       "    16       1                           0.109629           0.470608  1                  0.116667         0.129947  0.247906                    0.279938            0.0472973       1                          -52.9392  0"
      ]
     },
     "metadata": {},
     "output_type": "display_data"
    },
    {
     "name": "stdout",
     "output_type": "stream",
     "text": [
      "\n",
      "\n"
     ]
    }
   ],
   "source": [
    "if sample_type.value == 'Cross Validation':\n",
    "    eval_results = aml.leader.model_performance()\n",
    "else:\n",
    "    eval_results = aml.leader.model_performance(test)\n",
    "    \n",
    "print(eval_results)"
   ]
  },
  {
   "cell_type": "markdown",
   "metadata": {},
   "source": [
    "If you would like to investigate the parameters that were used by the model or would like to review any other method associated with the model,  please select from the the list below.\n",
    "\n",
    "**NOTE:** Not all methods may be relevant to all algorithms. If you would like to print a plot of your important variables, select the \"varimp_plot\" if available in the list.  You can also print the standardized coefficients using the \"std_coef_plot\" method if listed."
   ]
  },
  {
   "cell_type": "code",
   "execution_count": 27,
   "metadata": {},
   "outputs": [
    {
     "data": {
      "application/vnd.jupyter.widget-view+json": {
       "model_id": "f1dc39566dc240289e415a91321213ff",
       "version_major": 2,
       "version_minor": 0
      },
      "text/plain": [
       "Select(description='Method:', options=('F0point5', 'F1', 'F2', 'Lambda', 'accuracy', 'actual_params', 'aic', '…"
      ]
     },
     "metadata": {},
     "output_type": "display_data"
    }
   ],
   "source": [
    "all_methods = dir(aml.leader)\n",
    "keep_methods = [x for x in all_methods if not x.startswith('_')]\n",
    "\n",
    "methods = widgets.Select(\n",
    "    options=keep_methods,\n",
    "    description='Method:',\n",
    "    disabled=False\n",
    ")\n",
    "\n",
    "display(methods)"
   ]
  },
  {
   "cell_type": "markdown",
   "metadata": {},
   "source": [
    "## Reminder: Do not rerun the cell above after applying your inputs\n",
    "\n",
    "### Click on and Run this cell to proceed\n",
    "After making your selection above, the results will display as appropriate in the cell below:"
   ]
  },
  {
   "cell_type": "code",
   "execution_count": 29,
   "metadata": {},
   "outputs": [
    {
     "data": {
      "image/png": "[encoded data removed]",
      "text/plain": [
       "<Figure size 1008x720 with 1 Axes>"
      ]
     },
     "metadata": {
      "needs_background": "light"
     },
     "output_type": "display_data"
    },
    {
     "name": "stdout",
     "output_type": "stream",
     "text": [
      "varimp_plot: None\n"
     ]
    }
   ],
   "source": [
    "try:\n",
    "    print('{}: {}'.format(methods.value, eval('aml.leader.'+methods.value+'()')))\n",
    "except:\n",
    "    print('{}: {}'.format(methods.value, eval('aml.leader.'+methods.value)))"
   ]
  },
  {
   "cell_type": "markdown",
   "metadata": {},
   "source": [
    "### Score your existing dataset with the top model\n",
    "\n",
    "The code below will apply predicted-values to your full dataset should you wish to evaluate the results against the historical results.\n",
    "\n",
    "**Note:** This is different than if you want to apply your model against new data (which we will cover in the section to follow)."
   ]
  },
  {
   "cell_type": "code",
   "execution_count": 30,
   "metadata": {},
   "outputs": [
    {
     "name": "stdout",
     "output_type": "stream",
     "text": [
      "glm prediction progress: |████████████████████████████████████████████████| 100%\n"
     ]
    },
    {
     "data": {
      "text/html": [
       "<table>\n",
       "<thead>\n",
       "<tr><th>attrition  </th><th>gender  </th><th>birthday           </th><th style=\"text-align: right;\">  age</th><th>staff_category  </th><th>stock_options  </th><th>job_title                    </th><th>hire_date          </th><th>performance_rating  </th><th style=\"text-align: right;\">  employee_satisfaction</th><th>last_promotion_date  </th><th style=\"text-align: right;\">  recent_salary</th><th style=\"text-align: right;\">  prior_salary</th><th style=\"text-align: right;\">  last_raise</th><th style=\"text-align: right;\">  commute_distance</th><th style=\"text-align: right;\">  percent_travel</th><th>marital_status  </th><th>education       </th><th style=\"text-align: right;\">  employee_id</th><th>predict  </th><th style=\"text-align: right;\">      No</th><th style=\"text-align: right;\">     Yes</th></tr>\n",
       "</thead>\n",
       "<tbody>\n",
       "<tr><td>No         </td><td>male    </td><td>1959-09-02 00:00:00</td><td style=\"text-align: right;\">   59</td><td>Salaried        </td><td>Not Eligible   </td><td>Newspaper Editor-in-Chief    </td><td>2014-07-01 00:00:00</td><td>A                   </td><td style=\"text-align: right;\">                     31</td><td>2018-03-08 00:00:00  </td><td style=\"text-align: right;\">         158975</td><td style=\"text-align: right;\">        145848</td><td style=\"text-align: right;\">       13127</td><td style=\"text-align: right;\">                38</td><td style=\"text-align: right;\">              72</td><td>Single          </td><td>Graduate Degree </td><td style=\"text-align: right;\">  2.00147e+09</td><td>Yes      </td><td style=\"text-align: right;\">0.621   </td><td style=\"text-align: right;\">0.379   </td></tr>\n",
       "<tr><td>No         </td><td>female  </td><td>1965-12-05 00:00:00</td><td style=\"text-align: right;\">   53</td><td>Salaried        </td><td>Not Eligible   </td><td>Facilities & Building Manager</td><td>2005-09-20 00:00:00</td><td>C                   </td><td style=\"text-align: right;\">                     35</td><td>2017-12-09 00:00:00  </td><td style=\"text-align: right;\">         135190</td><td style=\"text-align: right;\">        125175</td><td style=\"text-align: right;\">       10015</td><td style=\"text-align: right;\">                32</td><td style=\"text-align: right;\">              93</td><td>Single          </td><td>PhD             </td><td style=\"text-align: right;\">  2.00147e+09</td><td>No       </td><td style=\"text-align: right;\">0.855959</td><td style=\"text-align: right;\">0.144041</td></tr>\n",
       "<tr><td>No         </td><td>male    </td><td>1979-03-18 00:00:00</td><td style=\"text-align: right;\">   40</td><td>Salaried        </td><td>Eligible       </td><td>Engineer Facilities Layout   </td><td>2004-11-10 00:00:00</td><td>D                   </td><td style=\"text-align: right;\">                     75</td><td>2014-10-14 00:00:00  </td><td style=\"text-align: right;\">         150110</td><td style=\"text-align: right;\">        141613</td><td style=\"text-align: right;\">        8497</td><td style=\"text-align: right;\">                 0</td><td style=\"text-align: right;\">              46</td><td>Married         </td><td>Graduate Degree </td><td style=\"text-align: right;\">  2.00147e+09</td><td>Yes      </td><td style=\"text-align: right;\">0.64649 </td><td style=\"text-align: right;\">0.35351 </td></tr>\n",
       "<tr><td>No         </td><td>female  </td><td>1980-03-01 00:00:00</td><td style=\"text-align: right;\">   39</td><td>Salaried        </td><td>Not Eligible   </td><td>Women's Apparel Salesperson  </td><td>2013-06-04 00:00:00</td><td>A                   </td><td style=\"text-align: right;\">                     72</td><td>2018-01-30 00:00:00  </td><td style=\"text-align: right;\">         160265</td><td style=\"text-align: right;\">        143093</td><td style=\"text-align: right;\">       17172</td><td style=\"text-align: right;\">                16</td><td style=\"text-align: right;\">              18</td><td>Single          </td><td>Bachelors Degree</td><td style=\"text-align: right;\">  2.00147e+09</td><td>No       </td><td style=\"text-align: right;\">0.828184</td><td style=\"text-align: right;\">0.171816</td></tr>\n",
       "<tr><td>Yes        </td><td>male    </td><td>1974-09-01 00:00:00</td><td style=\"text-align: right;\">   44</td><td>Hourly          </td><td>Not Eligible   </td><td>Product Safety Engineer      </td><td>2006-03-22 00:00:00</td><td>B                   </td><td style=\"text-align: right;\">                     39</td><td>2017-06-12 00:00:00  </td><td style=\"text-align: right;\">         116863</td><td style=\"text-align: right;\">        110248</td><td style=\"text-align: right;\">        6615</td><td style=\"text-align: right;\">                29</td><td style=\"text-align: right;\">              95</td><td>Married         </td><td>Some College    </td><td style=\"text-align: right;\">  2.00147e+09</td><td>Yes      </td><td style=\"text-align: right;\">0.631681</td><td style=\"text-align: right;\">0.368319</td></tr>\n",
       "<tr><td>No         </td><td>female  </td><td>1969-01-17 00:00:00</td><td style=\"text-align: right;\">   50</td><td>Salaried        </td><td>Not Eligible   </td><td>IT Field Representative      </td><td>2017-04-07 00:00:00</td><td>A                   </td><td style=\"text-align: right;\">                     69</td><td>2015-10-15 00:00:00  </td><td style=\"text-align: right;\">         172459</td><td style=\"text-align: right;\">        159684</td><td style=\"text-align: right;\">       12775</td><td style=\"text-align: right;\">                20</td><td style=\"text-align: right;\">              41</td><td>Single          </td><td>Some College    </td><td style=\"text-align: right;\">  2.00147e+09</td><td>No       </td><td style=\"text-align: right;\">0.801775</td><td style=\"text-align: right;\">0.198225</td></tr>\n",
       "<tr><td>No         </td><td>female  </td><td>1979-03-11 00:00:00</td><td style=\"text-align: right;\">   40</td><td>Salaried        </td><td>Not Eligible   </td><td>Maintenance Helper           </td><td>2004-03-30 00:00:00</td><td>A                   </td><td style=\"text-align: right;\">                     43</td><td>2014-01-21 00:00:00  </td><td style=\"text-align: right;\">          65816</td><td style=\"text-align: right;\">         60940</td><td style=\"text-align: right;\">        4876</td><td style=\"text-align: right;\">                 3</td><td style=\"text-align: right;\">              23</td><td>Married         </td><td>Graduate Degree </td><td style=\"text-align: right;\">  2.00147e+09</td><td>No       </td><td style=\"text-align: right;\">0.864811</td><td style=\"text-align: right;\">0.135189</td></tr>\n",
       "<tr><td>Yes        </td><td>female  </td><td>1972-12-26 00:00:00</td><td style=\"text-align: right;\">   46</td><td>Salaried        </td><td>Not Eligible   </td><td>Dean of Students             </td><td>2018-05-23 00:00:00</td><td>A                   </td><td style=\"text-align: right;\">                     38</td><td>2016-08-02 00:00:00  </td><td style=\"text-align: right;\">         195400</td><td style=\"text-align: right;\">        182616</td><td style=\"text-align: right;\">       12784</td><td style=\"text-align: right;\">                14</td><td style=\"text-align: right;\">              90</td><td>Single          </td><td>Some College    </td><td style=\"text-align: right;\">  2.00147e+09</td><td>No       </td><td style=\"text-align: right;\">0.787205</td><td style=\"text-align: right;\">0.212795</td></tr>\n",
       "<tr><td>Yes        </td><td>female  </td><td>1973-03-09 00:00:00</td><td style=\"text-align: right;\">   46</td><td>Hourly          </td><td>Not Eligible   </td><td>Medical Orthoptist           </td><td>2006-04-14 00:00:00</td><td>A                   </td><td style=\"text-align: right;\">                     57</td><td>2016-04-24 00:00:00  </td><td style=\"text-align: right;\">         134292</td><td style=\"text-align: right;\">        134292</td><td style=\"text-align: right;\">           0</td><td style=\"text-align: right;\">                13</td><td style=\"text-align: right;\">              26</td><td>Married         </td><td>PhD             </td><td style=\"text-align: right;\">  2.00147e+09</td><td>No       </td><td style=\"text-align: right;\">0.771867</td><td style=\"text-align: right;\">0.228133</td></tr>\n",
       "<tr><td>No         </td><td>female  </td><td>1961-03-19 00:00:00</td><td style=\"text-align: right;\">   58</td><td>Salaried        </td><td>Not Eligible   </td><td>Platemaker Lithographic      </td><td>2008-04-25 00:00:00</td><td>A                   </td><td style=\"text-align: right;\">                     50</td><td>2017-11-04 00:00:00  </td><td style=\"text-align: right;\">         194592</td><td style=\"text-align: right;\">        170694</td><td style=\"text-align: right;\">       23898</td><td style=\"text-align: right;\">                29</td><td style=\"text-align: right;\">              81</td><td>Married         </td><td>Graduate Degree </td><td style=\"text-align: right;\">  2.00147e+09</td><td>No       </td><td style=\"text-align: right;\">0.851051</td><td style=\"text-align: right;\">0.148949</td></tr>\n",
       "</tbody>\n",
       "</table>"
      ]
     },
     "metadata": {},
     "output_type": "display_data"
    },
    {
     "data": {
      "text/plain": []
     },
     "execution_count": 30,
     "metadata": {},
     "output_type": "execute_result"
    }
   ],
   "source": [
    "prediction_frame = aml.leader.predict(df)\n",
    "full_data_with_predictions = df.cbind(prediction_frame)\n",
    "full_data_with_predictions"
   ]
  },
  {
   "cell_type": "markdown",
   "metadata": {},
   "source": [
    "## 3.0 - Make Predictions & Export Results\n",
    "\n",
    "The following process will walk you through uploading another dataset to score against your top model.\n",
    "\n",
    "**Note:** The new dataset must contain the same fields that were used to train your models in the prior steps.  The structure of the new dataset does not have to be consistent with the one used in prior steps (ex. there is no need to align columns or remove fields)."
   ]
  },
  {
   "cell_type": "markdown",
   "metadata": {},
   "source": [
    "## 3.1 - Upload Your Data (Excel and CSV files)\n",
    "\n",
    "Follow the same process you used in subsequent steps to upload the dataset you would like to apply against your trained model.  This is the dataset with \"unknown\" values which your trained models will attempt to predict."
   ]
  },
  {
   "cell_type": "code",
   "execution_count": 32,
   "metadata": {},
   "outputs": [
    {
     "data": {
      "application/vnd.jupyter.widget-view+json": {
       "model_id": "002dd64d845c465eb003a9889bff805c",
       "version_major": 2,
       "version_minor": 0
      },
      "text/plain": [
       "interactive(children=(RadioButtons(description='File Location:', options=('local', 'url'), value='local'), Out…"
      ]
     },
     "metadata": {},
     "output_type": "display_data"
    }
   ],
   "source": [
    "upload_type = widgets.RadioButtons(\n",
    "    options=['local', 'url'],\n",
    "    description='File Location:',\n",
    "    disabled=False\n",
    ")\n",
    "\n",
    "upload_url = widgets.Text(\n",
    "#    value='https://gist.githubusercontent.com/bradblanch/4d9591ed64ad0e894668319529f51504/raw/1e7adf768d09724727a4e78bbef6968ed2fa695c/artificial_employee_records.csv',\n",
    "    value='https://web.stanford.edu/class/archive/cs/cs109/cs109.1166/stuff/titanic.csv',\n",
    "    placeholder='http://',\n",
    "    description='URL:',\n",
    "    disabled=False,\n",
    "    layout=Layout(width='80%')\n",
    ")\n",
    "upload_filename = widgets.Text(\n",
    "    value='artificial_employee_records.csv',\n",
    "#     value='artificial_employee_records.xlsx'\n",
    "    placeholder='Sample File.csv',\n",
    "    description='File Name:',\n",
    "    disabled=False,\n",
    "    layout=Layout(width='50%')\n",
    ")\n",
    "\n",
    "file_type = widgets.RadioButtons(\n",
    "    options=['csv', 'xlsx'],\n",
    "    description='File Type:',\n",
    "    disabled=False\n",
    ")\n",
    "\n",
    "tab_names = widgets.Text(\n",
    "    value='Sheet1, Sheet2, Sheet3, etc',\n",
    "    placeholder='ALL EMPLOYEES, PAST EMPLOYEES',\n",
    "    description='Tab(s):',\n",
    "    disabled=False,\n",
    "    layout=Layout(width='50%')\n",
    ")\n",
    "\n",
    "subfolder_name = widgets.Text(\n",
    "    value='source_data',\n",
    "    placeholder='Subfolder name',\n",
    "    description='Subfolder:',\n",
    "    disabled=False,\n",
    "    layout=Layout(width='50%')\n",
    ")\n",
    "\n",
    "subfolder = widgets.RadioButtons(\n",
    "    options=['no','yes'],\n",
    "    value='no',\n",
    "    description='Subfolder:',\n",
    "    disabled=False\n",
    ")\n",
    "\n",
    "skip_rows = widgets.IntSlider(\n",
    "    value=0,\n",
    "    min=0,\n",
    "    max=10,\n",
    "    step=1,\n",
    "    description='Skip Rows:',\n",
    "    disabled=False,\n",
    "    continuous_update=True,\n",
    "    orientation='horizontal',\n",
    "    readout=True,\n",
    "    readout_format='d'\n",
    ")\n",
    "\n",
    "delimiter = widgets.RadioButtons(\n",
    "    options=[',',';'],\n",
    "    value=',',\n",
    "    description='Delimiter:',\n",
    "    disabled=False\n",
    ")\n",
    "\n",
    "def text_field(x):\n",
    "    if(x=='xlsx'):\n",
    "        display(tab_names)\n",
    "        tab_names.on_submit(tab_names)\n",
    "        display(skip_rows)\n",
    "    else:\n",
    "        display(delimiter)\n",
    "        print('Tab Names: Not needed for csv files')\n",
    "\n",
    "def sub_folder(y):\n",
    "    if(y=='yes'):\n",
    "        display(subfolder_name)\n",
    "        subfolder_name.on_submit(subfolder_name)\n",
    "    else:\n",
    "        print('Using {} folder'.format(os.getcwd()))\n",
    "\n",
    "def file_location(z):\n",
    "    if(z=='local'):\n",
    "        display(upload_filename)\n",
    "        i = widgets.interactive(text_field, x=file_type)\n",
    "        display(i)\n",
    "        p = widgets.interactive(sub_folder, y=subfolder)\n",
    "        display(p)\n",
    "    else:\n",
    "        display(upload_url)\n",
    "\n",
    "q = widgets.interactive(file_location, z=upload_type)\n",
    "\n",
    "display(q)"
   ]
  },
  {
   "cell_type": "markdown",
   "metadata": {},
   "source": [
    "## Reminder: Do not rerun the cell above after applying your inputs\n",
    "\n",
    "### Click on and Run this cell to proceed\n",
    "The following code cell will attempt to ingest the data you've selected in the widgets above:\n",
    "\n",
    "**Note About xlsx Files** - Depending on the number of tabs and the size of the data on each tab, ingesting an xlsx file can take several minutes to execute.  If possible, it may be more efficient to break your Excel file into separate csv files which take only a fraction of a second to ingest."
   ]
  },
  {
   "cell_type": "code",
   "execution_count": 33,
   "metadata": {},
   "outputs": [],
   "source": [
    "new_data = {}\n",
    "\n",
    "if upload_type.value == 'url':\n",
    "    url_response = requests.request(\"GET\", upload_url.value)\n",
    "    new_data['url_data'] = pd.read_csv(io.BytesIO(url_response.content))\n",
    "else:\n",
    "    if file_type.value == 'csv':\n",
    "        tabs = None\n",
    "        skiprows = 0\n",
    "    else:\n",
    "        tabs = [x.strip() for x in tab_names.value.split(',')]\n",
    "        skiprows = skip_rows.value\n",
    "\n",
    "    if subfolder.value == 'yes':\n",
    "        subfolder = subfolder_name.value\n",
    "    else:\n",
    "        subfolder = None\n",
    "    new_data = compile_raw_data(upload_filename.value, tabs, subfolder, delimiter_char = delimiter.value, skip_rows = skiprows, file_ext = file_type.value)\n"
   ]
  },
  {
   "cell_type": "markdown",
   "metadata": {},
   "source": [
    "**Note:** If you see an AttributeError: 'NoneType' object has no attribute 'value' message above, simply rerun the last two code cells to reset the input parameters.\n",
    "\n",
    "The following code cell will print out the attributes associated with the files you've uploaded and alert you of any errors:"
   ]
  },
  {
   "cell_type": "code",
   "execution_count": 34,
   "metadata": {},
   "outputs": [
    {
     "name": "stdout",
     "output_type": "stream",
     "text": [
      "url_data table was ingested with 887 rows and 8 columns\n"
     ]
    }
   ],
   "source": [
    "for key, value in new_data.items():\n",
    "    try:\n",
    "        print('{} table was ingested with {} rows and {} columns'.format(key,value.shape[0],value.shape[1]))\n",
    "    except:\n",
    "        print('{} table failed to load'.format(key))"
   ]
  },
  {
   "cell_type": "markdown",
   "metadata": {},
   "source": [
    "## 3.2 - Select a Data Frame to be Scored\n",
    "\n",
    "The following menus will allow you to select the dataset you would like to score against your trained model.  This dataset should contain the fields you used to train the models in prior steps, but it does not have to consistent of the same structure (ex. there is no need to remove unused columns or align column locations).\n",
    "\n",
    "Select an available frame from the list below:"
   ]
  },
  {
   "cell_type": "code",
   "execution_count": 35,
   "metadata": {},
   "outputs": [
    {
     "data": {
      "application/vnd.jupyter.widget-view+json": {
       "model_id": "351a434c349249c09f82a04743561b4c",
       "version_major": 2,
       "version_minor": 0
      },
      "text/plain": [
       "Select(description='Tables:', layout=Layout(width='50%'), options=('url_data',), value='url_data')"
      ]
     },
     "metadata": {},
     "output_type": "display_data"
    }
   ],
   "source": [
    "dict_keys = widgets.Select(\n",
    "    options=new_data.keys(),\n",
    "    description='Tables:',\n",
    "    disabled=False,\n",
    "    layout=Layout(width='50%')\n",
    ")\n",
    "\n",
    "display(dict_keys)"
   ]
  },
  {
   "cell_type": "markdown",
   "metadata": {},
   "source": [
    "## Reminder: Do not rerun the cell above after applying your inputs\n",
    "\n",
    "### Click on and Run this cell to proceed"
   ]
  },
  {
   "cell_type": "code",
   "execution_count": 36,
   "metadata": {},
   "outputs": [
    {
     "name": "stdout",
     "output_type": "stream",
     "text": [
      "Parse progress: |█████████████████████████████████████████████████████████| 100%\n"
     ]
    }
   ],
   "source": [
    "score_data = h2o.H2OFrame(new_data[dict_keys.value])"
   ]
  },
  {
   "cell_type": "markdown",
   "metadata": {},
   "source": [
    "## 3.3 - Predict the Target Value\n",
    "\n",
    "The code below will attempt to apply your trained model against this new dataset and predict the target value.  The result will be a new dataset with your original data combined with the predicted results."
   ]
  },
  {
   "cell_type": "code",
   "execution_count": 37,
   "metadata": {},
   "outputs": [
    {
     "name": "stdout",
     "output_type": "stream",
     "text": [
      "gbm prediction progress: |████████████████████████████████████████████████| 100%\n"
     ]
    },
    {
     "data": {
      "text/html": [
       "<table>\n",
       "<thead>\n",
       "<tr><th style=\"text-align: right;\">  Survived</th><th style=\"text-align: right;\">  Pclass</th><th>Name                                              </th><th>Sex   </th><th style=\"text-align: right;\">  Age</th><th style=\"text-align: right;\">  Siblings/Spouses Aboard</th><th style=\"text-align: right;\">  Parents/Children Aboard</th><th style=\"text-align: right;\">   Fare</th><th style=\"text-align: right;\">  predict</th><th style=\"text-align: right;\">       p0</th><th style=\"text-align: right;\">       p1</th></tr>\n",
       "</thead>\n",
       "<tbody>\n",
       "<tr><td style=\"text-align: right;\">         0</td><td style=\"text-align: right;\">       3</td><td>Mr. Owen Harris Braund                            </td><td>male  </td><td style=\"text-align: right;\">   22</td><td style=\"text-align: right;\">                        1</td><td style=\"text-align: right;\">                        0</td><td style=\"text-align: right;\"> 7.25  </td><td style=\"text-align: right;\">        0</td><td style=\"text-align: right;\">0.878405 </td><td style=\"text-align: right;\">0.121595 </td></tr>\n",
       "<tr><td style=\"text-align: right;\">         1</td><td style=\"text-align: right;\">       1</td><td>Mrs. John Bradley (Florence Briggs Thayer) Cumings</td><td>female</td><td style=\"text-align: right;\">   38</td><td style=\"text-align: right;\">                        1</td><td style=\"text-align: right;\">                        0</td><td style=\"text-align: right;\">71.2833</td><td style=\"text-align: right;\">        1</td><td style=\"text-align: right;\">0.0655769</td><td style=\"text-align: right;\">0.934423 </td></tr>\n",
       "<tr><td style=\"text-align: right;\">         1</td><td style=\"text-align: right;\">       3</td><td>Miss. Laina Heikkinen                             </td><td>female</td><td style=\"text-align: right;\">   26</td><td style=\"text-align: right;\">                        0</td><td style=\"text-align: right;\">                        0</td><td style=\"text-align: right;\"> 7.925 </td><td style=\"text-align: right;\">        0</td><td style=\"text-align: right;\">0.5942   </td><td style=\"text-align: right;\">0.4058   </td></tr>\n",
       "<tr><td style=\"text-align: right;\">         1</td><td style=\"text-align: right;\">       1</td><td>Mrs. Jacques Heath (Lily May Peel) Futrelle       </td><td>female</td><td style=\"text-align: right;\">   35</td><td style=\"text-align: right;\">                        1</td><td style=\"text-align: right;\">                        0</td><td style=\"text-align: right;\">53.1   </td><td style=\"text-align: right;\">        1</td><td style=\"text-align: right;\">0.0363182</td><td style=\"text-align: right;\">0.963682 </td></tr>\n",
       "<tr><td style=\"text-align: right;\">         0</td><td style=\"text-align: right;\">       3</td><td>Mr. William Henry Allen                           </td><td>male  </td><td style=\"text-align: right;\">   35</td><td style=\"text-align: right;\">                        0</td><td style=\"text-align: right;\">                        0</td><td style=\"text-align: right;\"> 8.05  </td><td style=\"text-align: right;\">        0</td><td style=\"text-align: right;\">0.930604 </td><td style=\"text-align: right;\">0.0693956</td></tr>\n",
       "<tr><td style=\"text-align: right;\">         0</td><td style=\"text-align: right;\">       3</td><td>Mr. James Moran                                   </td><td>male  </td><td style=\"text-align: right;\">   27</td><td style=\"text-align: right;\">                        0</td><td style=\"text-align: right;\">                        0</td><td style=\"text-align: right;\"> 8.4583</td><td style=\"text-align: right;\">        0</td><td style=\"text-align: right;\">0.753122 </td><td style=\"text-align: right;\">0.246878 </td></tr>\n",
       "<tr><td style=\"text-align: right;\">         0</td><td style=\"text-align: right;\">       1</td><td>Mr. Timothy J McCarthy                            </td><td>male  </td><td style=\"text-align: right;\">   54</td><td style=\"text-align: right;\">                        0</td><td style=\"text-align: right;\">                        0</td><td style=\"text-align: right;\">51.8625</td><td style=\"text-align: right;\">        0</td><td style=\"text-align: right;\">0.91337  </td><td style=\"text-align: right;\">0.0866305</td></tr>\n",
       "<tr><td style=\"text-align: right;\">         0</td><td style=\"text-align: right;\">       3</td><td>Master. Gosta Leonard Palsson                     </td><td>male  </td><td style=\"text-align: right;\">    2</td><td style=\"text-align: right;\">                        3</td><td style=\"text-align: right;\">                        1</td><td style=\"text-align: right;\">21.075 </td><td style=\"text-align: right;\">        0</td><td style=\"text-align: right;\">0.841731 </td><td style=\"text-align: right;\">0.158269 </td></tr>\n",
       "<tr><td style=\"text-align: right;\">         1</td><td style=\"text-align: right;\">       3</td><td>Mrs. Oscar W (Elisabeth Vilhelmina Berg) Johnson  </td><td>female</td><td style=\"text-align: right;\">   27</td><td style=\"text-align: right;\">                        0</td><td style=\"text-align: right;\">                        2</td><td style=\"text-align: right;\">11.1333</td><td style=\"text-align: right;\">        1</td><td style=\"text-align: right;\">0.106524 </td><td style=\"text-align: right;\">0.893476 </td></tr>\n",
       "<tr><td style=\"text-align: right;\">         1</td><td style=\"text-align: right;\">       2</td><td>Mrs. Nicholas (Adele Achem) Nasser                </td><td>female</td><td style=\"text-align: right;\">   14</td><td style=\"text-align: right;\">                        1</td><td style=\"text-align: right;\">                        0</td><td style=\"text-align: right;\">30.0708</td><td style=\"text-align: right;\">        1</td><td style=\"text-align: right;\">0.0892348</td><td style=\"text-align: right;\">0.910765 </td></tr>\n",
       "</tbody>\n",
       "</table>"
      ]
     },
     "metadata": {},
     "output_type": "display_data"
    },
    {
     "data": {
      "text/plain": []
     },
     "execution_count": 37,
     "metadata": {},
     "output_type": "execute_result"
    }
   ],
   "source": [
    "prediction_frame = aml.leader.predict(score_data)\n",
    "full_data_with_predictions = score_data.cbind(prediction_frame)\n",
    "full_data_with_predictions"
   ]
  },
  {
   "cell_type": "code",
   "execution_count": 38,
   "metadata": {},
   "outputs": [],
   "source": [
    "new_data['scored_data'] = full_data_with_predictions.as_data_frame(use_pandas=True)"
   ]
  },
  {
   "cell_type": "markdown",
   "metadata": {},
   "source": [
    "## 3.4 - Export Dataframes for Offline Analysis\n",
    "\n",
    "The following code block will allow you to select and export dataframes to a local directory.  Use the inputs below to write the files to your current directory and to apply a timestamp to the filenames to prevent the risk of overwriting prior files saved to that folder."
   ]
  },
  {
   "cell_type": "code",
   "execution_count": 39,
   "metadata": {},
   "outputs": [],
   "source": [
    "def dict_to_csv(dict_name, dframe, subfolder, timestamp = False):\n",
    "    \n",
    "    # Inputs: a dictionary of dataframes; timestamp = True adds an ISO-formatted suffix to the filename\n",
    "    # Description: Writes dataframes contained within a dictionary to CSV (on your directory)\n",
    "\n",
    "    if subfolder:\n",
    "        file_path = subfolder+'/'\n",
    "        suffix = '_' + re.sub(r\"\\:+\", '', dt.datetime.now().isoformat()) + '.csv' if timestamp else '.csv'  \n",
    "        file_path = os.path.join(file_path, dframe + suffix)\n",
    "    else:\n",
    "        suffix = '_' + re.sub(r\"\\:+\", '', dt.datetime.now().isoformat()) + '.csv' if timestamp else '.csv'  \n",
    "        file_path = os.path.join(dframe + suffix)\n",
    "        \n",
    "    try:\n",
    "        dict_name[dframe].to_csv(file_path, sep=',', encoding='utf-8', index = False)\n",
    "        print('Successfully wrote {} with {} rows and {} columns to the directory'.format(dframe+suffix, new_data[dframe].shape[0], new_data[dframe].shape[1]))\n",
    "    except Exception as e:\n",
    "        print('Writing the data to the directory failed')\n",
    "        "
   ]
  },
  {
   "cell_type": "markdown",
   "metadata": {},
   "source": [
    "Select one or more available dataframes, then select whether or not you'd like the files saved to the current working directory or a subfolder in the directory.  Lastly, if you would like a timestamp to be added to your exported filenames, select Timestamp = 'yes' to prevent overwriting prior files saved to the folder.\n",
    "\n",
    "## The scored_data table in the widget below contains both the raw data you uploaded along with the predicted values resulting from your model"
   ]
  },
  {
   "cell_type": "code",
   "execution_count": 40,
   "metadata": {},
   "outputs": [
    {
     "data": {
      "application/vnd.jupyter.widget-view+json": {
       "model_id": "595e8b0eae604b5ba24c2492799bc59a",
       "version_major": 2,
       "version_minor": 0
      },
      "text/plain": [
       "SelectMultiple(description='Tables:', layout=Layout(width='50%'), options=('url_data', 'scored_data'), value=(…"
      ]
     },
     "metadata": {},
     "output_type": "display_data"
    },
    {
     "data": {
      "application/vnd.jupyter.widget-view+json": {
       "model_id": "a55130bbbf274b8f88447a040fbad63c",
       "version_major": 2,
       "version_minor": 0
      },
      "text/plain": [
       "interactive(children=(RadioButtons(description='Subfolder:', options=('no', 'yes'), value='no'), Output()), _d…"
      ]
     },
     "metadata": {},
     "output_type": "display_data"
    },
    {
     "data": {
      "application/vnd.jupyter.widget-view+json": {
       "model_id": "d6630c441f254789a1fd76a4fc05e8f2",
       "version_major": 2,
       "version_minor": 0
      },
      "text/plain": [
       "RadioButtons(description='Timestamp:', index=1, options=('no', 'yes'), value='yes')"
      ]
     },
     "metadata": {},
     "output_type": "display_data"
    }
   ],
   "source": [
    "dict_keys = widgets.SelectMultiple(\n",
    "    options=new_data.keys(),\n",
    "    description='Tables:',\n",
    "    disabled=False,\n",
    "    layout=Layout(width='50%')\n",
    ")\n",
    "\n",
    "display(dict_keys)\n",
    "\n",
    "subfolder_option = widgets.RadioButtons(\n",
    "    options=['no','yes'],\n",
    "    value='no',\n",
    "    description='Subfolder:',\n",
    "    disabled=False\n",
    ")\n",
    "\n",
    "timestamp_option = widgets.RadioButtons(\n",
    "    options=['no','yes'],\n",
    "    value='yes',\n",
    "    description='Timestamp:',\n",
    "    disabled=False\n",
    ")\n",
    "\n",
    "subfolder_text = widgets.Text(\n",
    "    value='output',\n",
    "    placeholder='Subfolder name',\n",
    "    description='Subfolder:',\n",
    "    disabled=False,\n",
    "    layout=Layout(width='50%')\n",
    ")\n",
    "\n",
    "def sub_folder_edit(y):\n",
    "    if(y=='yes'):\n",
    "        display(subfolder_text)\n",
    "        subfolder_text.on_submit(subfolder_text)\n",
    "        print('Your file(s) will be written to the subfolder in {}'.format(os.getcwd()+os.sep+subfolder_text.value))\n",
    "    else:\n",
    "        print('Using {} folder'.format(os.getcwd()))\n",
    "        \n",
    "y = widgets.interactive(sub_folder_edit, y=subfolder_option)\n",
    "\n",
    "display(y, timestamp_option)"
   ]
  },
  {
   "cell_type": "markdown",
   "metadata": {},
   "source": [
    "## Reminder: Do not rerun the cell above after applying your inputs\n",
    "\n",
    "### Click on and Run this cell to proceed\n",
    "Execute the code cell below to export the csv files to your chosen directory.\n",
    "\n",
    "**NOTE:** If you have chosen to write your files to a \"subfolder\" - ensure that the folder can be found in your working directory.  The function below will \"not create a subfolder\" in your directory."
   ]
  },
  {
   "cell_type": "code",
   "execution_count": 41,
   "metadata": {},
   "outputs": [
    {
     "name": "stdout",
     "output_type": "stream",
     "text": [
      "Successfully wrote scored_data_2020-02-26T131734.597294.csv with 887 rows and 11 columns to the directory\n"
     ]
    }
   ],
   "source": [
    "if subfolder_option.value == 'yes':\n",
    "    subfolder = subfolder_text.value\n",
    "else:\n",
    "    subfolder = None\n",
    "    \n",
    "dframe_list = []\n",
    "for df in dict_keys.value:\n",
    "    dframe_list.append(df)\n",
    "\n",
    "if timestamp_option.value == 'yes':\n",
    "    timestamp_boolean = True\n",
    "else:\n",
    "    timestamp_boolean = False\n",
    " \n",
    "for df in dframe_list:\n",
    "    dict_to_csv(new_data, df, subfolder, timestamp = timestamp_boolean)"
   ]
  },
  {
   "cell_type": "markdown",
   "metadata": {},
   "source": [
    "## Extract & Save Your Model\n",
    "\n",
    "Executing the cell below will save a copy of your h2o model:"
   ]
  },
  {
   "cell_type": "code",
   "execution_count": 42,
   "metadata": {},
   "outputs": [
    {
     "name": "stdout",
     "output_type": "stream",
     "text": [
      "The model has been successfully saved in the following directory: /Users/bblanchard006/Desktop/digital_lab/autoML/GBM_grid_1_AutoML_20200226_131412_model_18\n",
      "H2O session _sid_8291 closed.\n"
     ]
    }
   ],
   "source": [
    "model_path = h2o.save_model(model=aml.leader, force=True)\n",
    "print('The model has been successfully saved in the following directory: {}'.format(model_path))\n",
    "h2o.cluster().shutdown()"
   ]
  }
 ],
 "metadata": {
  "kernelspec": {
   "display_name": "Python 3",
   "language": "python",
   "name": "python3"
  },
  "language_info": {
   "codemirror_mode": {
    "name": "ipython",
    "version": 3
   },
   "file_extension": ".py",
   "mimetype": "text/x-python",
   "name": "python",
   "nbconvert_exporter": "python",
   "pygments_lexer": "ipython3",
   "version": "3.6.2"
  }
 },
 "nbformat": 4,
 "nbformat_minor": 2
}
